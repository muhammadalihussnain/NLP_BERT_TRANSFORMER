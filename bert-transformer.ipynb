{
 "cells": [
  {
   "cell_type": "code",
   "execution_count": 1,
   "id": "07b500c8",
   "metadata": {
    "_cell_guid": "b1076dfc-b9ad-4769-8c92-a6c4dae69d19",
    "_uuid": "8f2839f25d086af736a60e9eeb907d3b93b6e0e5",
    "execution": {
     "iopub.execute_input": "2023-01-04T18:23:06.412576Z",
     "iopub.status.busy": "2023-01-04T18:23:06.412124Z",
     "iopub.status.idle": "2023-01-04T18:23:06.422754Z",
     "shell.execute_reply": "2023-01-04T18:23:06.420934Z"
    },
    "papermill": {
     "duration": 0.025932,
     "end_time": "2023-01-04T18:23:06.425599",
     "exception": false,
     "start_time": "2023-01-04T18:23:06.399667",
     "status": "completed"
    },
    "tags": []
   },
   "outputs": [
    {
     "name": "stdout",
     "output_type": "stream",
     "text": [
      "Hello World\n"
     ]
    }
   ],
   "source": [
    "print('Hello World')"
   ]
  },
  {
   "cell_type": "code",
   "execution_count": 2,
   "id": "6fcbc1ae",
   "metadata": {
    "execution": {
     "iopub.execute_input": "2023-01-04T18:23:06.447179Z",
     "iopub.status.busy": "2023-01-04T18:23:06.446815Z",
     "iopub.status.idle": "2023-01-04T18:23:17.692322Z",
     "shell.execute_reply": "2023-01-04T18:23:17.691063Z"
    },
    "papermill": {
     "duration": 11.258936,
     "end_time": "2023-01-04T18:23:17.694655",
     "exception": false,
     "start_time": "2023-01-04T18:23:06.435719",
     "status": "completed"
    },
    "tags": []
   },
   "outputs": [],
   "source": [
    "!pip install -qq transformers\n"
   ]
  },
  {
   "cell_type": "code",
   "execution_count": 3,
   "id": "5a12c72c",
   "metadata": {
    "execution": {
     "iopub.execute_input": "2023-01-04T18:23:17.718318Z",
     "iopub.status.busy": "2023-01-04T18:23:17.717955Z",
     "iopub.status.idle": "2023-01-04T18:23:29.023087Z",
     "shell.execute_reply": "2023-01-04T18:23:29.021314Z"
    },
    "papermill": {
     "duration": 11.31892,
     "end_time": "2023-01-04T18:23:29.025494",
     "exception": false,
     "start_time": "2023-01-04T18:23:17.706574",
     "status": "completed"
    },
    "tags": []
   },
   "outputs": [
    {
     "data": {
      "text/plain": [
       "device(type='cpu')"
      ]
     },
     "execution_count": 3,
     "metadata": {},
     "output_type": "execute_result"
    }
   ],
   "source": [
    "import transformers\n",
    "from transformers import BertModel, BertTokenizer, AdamW, get_linear_schedule_with_warmup\n",
    "import torch\n",
    "import numpy as np\n",
    "import pandas as pd\n",
    "import seaborn as sns\n",
    "from pylab import rcParams\n",
    "import matplotlib.pyplot as plt\n",
    "from matplotlib import rc\n",
    "from sklearn.model_selection import train_test_split\n",
    "from sklearn.metrics import confusion_matrix, classification_report\n",
    "from collections import defaultdict\n",
    "from textwrap import wrap\n",
    "from torch import nn, optim\n",
    "from torch.utils.data import Dataset, DataLoader\n",
    "%matplotlib inline\n",
    "%config InlineBackend.figure_format='retina'\n",
    "sns.set(style='whitegrid', palette='muted', font_scale=1.2)\n",
    "HAPPY_COLORS_PALETTE = [\"#01BEFE\", \"#FFDD00\", \"#FF7D00\", \"#FF006D\", \"#ADFF02\", \"#8F00FF\"]\n",
    "sns.set_palette(sns.color_palette(HAPPY_COLORS_PALETTE))\n",
    "rcParams['figure.figsize'] = 15, 4\n",
    "RANDOM_SEED = 42\n",
    "np.random.seed(RANDOM_SEED)\n",
    "torch.manual_seed(RANDOM_SEED)\n",
    "device = torch.device(\"cuda:0\" if torch.cuda.is_available() else \"cpu\")\n",
    "device"
   ]
  },
  {
   "cell_type": "code",
   "execution_count": 4,
   "id": "d6ea599d",
   "metadata": {
    "execution": {
     "iopub.execute_input": "2023-01-04T18:23:29.046913Z",
     "iopub.status.busy": "2023-01-04T18:23:29.046210Z",
     "iopub.status.idle": "2023-01-04T18:23:29.311951Z",
     "shell.execute_reply": "2023-01-04T18:23:29.310672Z"
    },
    "papermill": {
     "duration": 0.279671,
     "end_time": "2023-01-04T18:23:29.314792",
     "exception": false,
     "start_time": "2023-01-04T18:23:29.035121",
     "status": "completed"
    },
    "tags": []
   },
   "outputs": [
    {
     "data": {
      "text/html": [
       "<div>\n",
       "<style scoped>\n",
       "    .dataframe tbody tr th:only-of-type {\n",
       "        vertical-align: middle;\n",
       "    }\n",
       "\n",
       "    .dataframe tbody tr th {\n",
       "        vertical-align: top;\n",
       "    }\n",
       "\n",
       "    .dataframe thead th {\n",
       "        text-align: right;\n",
       "    }\n",
       "</style>\n",
       "<table border=\"1\" class=\"dataframe\">\n",
       "  <thead>\n",
       "    <tr style=\"text-align: right;\">\n",
       "      <th></th>\n",
       "      <th>userName</th>\n",
       "      <th>userImage</th>\n",
       "      <th>content</th>\n",
       "      <th>score</th>\n",
       "      <th>thumbsUpCount</th>\n",
       "      <th>reviewCreatedVersion</th>\n",
       "      <th>at</th>\n",
       "      <th>replyContent</th>\n",
       "      <th>repliedAt</th>\n",
       "      <th>sortOrder</th>\n",
       "      <th>appId</th>\n",
       "    </tr>\n",
       "  </thead>\n",
       "  <tbody>\n",
       "    <tr>\n",
       "      <th>0</th>\n",
       "      <td>Andrew Thomas</td>\n",
       "      <td>https://lh3.googleusercontent.com/a-/AOh14GiHd...</td>\n",
       "      <td>Update: After getting a response from the deve...</td>\n",
       "      <td>1</td>\n",
       "      <td>21</td>\n",
       "      <td>4.17.0.3</td>\n",
       "      <td>2020-04-05 22:25:57</td>\n",
       "      <td>According to our TOS, and the term you have ag...</td>\n",
       "      <td>2020-04-05 15:10:24</td>\n",
       "      <td>most_relevant</td>\n",
       "      <td>com.anydo</td>\n",
       "    </tr>\n",
       "    <tr>\n",
       "      <th>1</th>\n",
       "      <td>Craig Haines</td>\n",
       "      <td>https://lh3.googleusercontent.com/-hoe0kwSJgPQ...</td>\n",
       "      <td>Used it for a fair amount of time without any ...</td>\n",
       "      <td>1</td>\n",
       "      <td>11</td>\n",
       "      <td>4.17.0.3</td>\n",
       "      <td>2020-04-04 13:40:01</td>\n",
       "      <td>It sounds like you logged in with a different ...</td>\n",
       "      <td>2020-04-05 15:11:35</td>\n",
       "      <td>most_relevant</td>\n",
       "      <td>com.anydo</td>\n",
       "    </tr>\n",
       "  </tbody>\n",
       "</table>\n",
       "</div>"
      ],
      "text/plain": [
       "        userName                                          userImage  \\\n",
       "0  Andrew Thomas  https://lh3.googleusercontent.com/a-/AOh14GiHd...   \n",
       "1   Craig Haines  https://lh3.googleusercontent.com/-hoe0kwSJgPQ...   \n",
       "\n",
       "                                             content  score  thumbsUpCount  \\\n",
       "0  Update: After getting a response from the deve...      1             21   \n",
       "1  Used it for a fair amount of time without any ...      1             11   \n",
       "\n",
       "  reviewCreatedVersion                   at  \\\n",
       "0             4.17.0.3  2020-04-05 22:25:57   \n",
       "1             4.17.0.3  2020-04-04 13:40:01   \n",
       "\n",
       "                                        replyContent            repliedAt  \\\n",
       "0  According to our TOS, and the term you have ag...  2020-04-05 15:10:24   \n",
       "1  It sounds like you logged in with a different ...  2020-04-05 15:11:35   \n",
       "\n",
       "       sortOrder      appId  \n",
       "0  most_relevant  com.anydo  \n",
       "1  most_relevant  com.anydo  "
      ]
     },
     "execution_count": 4,
     "metadata": {},
     "output_type": "execute_result"
    }
   ],
   "source": [
    "df =pd.read_csv('/kaggle/input/data-reviews/reviews123.csv')\n",
    "df.head(2)"
   ]
  },
  {
   "cell_type": "code",
   "execution_count": 5,
   "id": "14858523",
   "metadata": {
    "execution": {
     "iopub.execute_input": "2023-01-04T18:23:29.338545Z",
     "iopub.status.busy": "2023-01-04T18:23:29.338162Z",
     "iopub.status.idle": "2023-01-04T18:23:29.373786Z",
     "shell.execute_reply": "2023-01-04T18:23:29.372067Z"
    },
    "papermill": {
     "duration": 0.050544,
     "end_time": "2023-01-04T18:23:29.375874",
     "exception": false,
     "start_time": "2023-01-04T18:23:29.325330",
     "status": "completed"
    },
    "tags": []
   },
   "outputs": [
    {
     "name": "stdout",
     "output_type": "stream",
     "text": [
      "<class 'pandas.core.frame.DataFrame'>\n",
      "RangeIndex: 15746 entries, 0 to 15745\n",
      "Data columns (total 11 columns):\n",
      " #   Column                Non-Null Count  Dtype \n",
      "---  ------                --------------  ----- \n",
      " 0   userName              15746 non-null  object\n",
      " 1   userImage             15746 non-null  object\n",
      " 2   content               15746 non-null  object\n",
      " 3   score                 15746 non-null  int64 \n",
      " 4   thumbsUpCount         15746 non-null  int64 \n",
      " 5   reviewCreatedVersion  13533 non-null  object\n",
      " 6   at                    15746 non-null  object\n",
      " 7   replyContent          7367 non-null   object\n",
      " 8   repliedAt             7367 non-null   object\n",
      " 9   sortOrder             15746 non-null  object\n",
      " 10  appId                 15746 non-null  object\n",
      "dtypes: int64(2), object(9)\n",
      "memory usage: 1.3+ MB\n"
     ]
    }
   ],
   "source": [
    "df.info()"
   ]
  },
  {
   "cell_type": "code",
   "execution_count": 6,
   "id": "c5d9ab59",
   "metadata": {
    "execution": {
     "iopub.execute_input": "2023-01-04T18:23:29.399155Z",
     "iopub.status.busy": "2023-01-04T18:23:29.398491Z",
     "iopub.status.idle": "2023-01-04T18:23:29.407018Z",
     "shell.execute_reply": "2023-01-04T18:23:29.405374Z"
    },
    "papermill": {
     "duration": 0.024517,
     "end_time": "2023-01-04T18:23:29.410804",
     "exception": false,
     "start_time": "2023-01-04T18:23:29.386287",
     "status": "completed"
    },
    "tags": []
   },
   "outputs": [
    {
     "name": "stdout",
     "output_type": "stream",
     "text": [
      "3    5042\n",
      "5    2900\n",
      "4    2776\n",
      "1    2566\n",
      "2    2462\n",
      "Name: score, dtype: int64\n"
     ]
    }
   ],
   "source": [
    "print(df.score.value_counts())"
   ]
  },
  {
   "cell_type": "code",
   "execution_count": 7,
   "id": "af8d01b4",
   "metadata": {
    "execution": {
     "iopub.execute_input": "2023-01-04T18:23:29.436066Z",
     "iopub.status.busy": "2023-01-04T18:23:29.434369Z",
     "iopub.status.idle": "2023-01-04T18:23:29.769129Z",
     "shell.execute_reply": "2023-01-04T18:23:29.767441Z"
    },
    "papermill": {
     "duration": 0.350124,
     "end_time": "2023-01-04T18:23:29.771974",
     "exception": false,
     "start_time": "2023-01-04T18:23:29.421850",
     "status": "completed"
    },
    "tags": []
   },
   "outputs": [
    {
     "name": "stderr",
     "output_type": "stream",
     "text": [
      "/opt/conda/lib/python3.7/site-packages/seaborn/_decorators.py:43: FutureWarning: Pass the following variable as a keyword arg: x. From version 0.12, the only valid positional argument will be `data`, and passing other arguments without an explicit keyword will result in an error or misinterpretation.\n",
      "  FutureWarning\n"
     ]
    },
    {
     "data": {
      "text/plain": [
       "<AxesSubplot:xlabel='score', ylabel='count'>"
      ]
     },
     "execution_count": 7,
     "metadata": {},
     "output_type": "execute_result"
    },
    {
     "data": {
      "image/png": "[encoded data removed]",
      "text/plain": [
       "<Figure size 1080x288 with 1 Axes>"
      ]
     },
     "metadata": {
      "image/png": {
       "height": 272,
       "width": 912
      }
     },
     "output_type": "display_data"
    }
   ],
   "source": [
    "sns.countplot(df.score)"
   ]
  },
  {
   "cell_type": "code",
   "execution_count": 8,
   "id": "171c2c14",
   "metadata": {
    "execution": {
     "iopub.execute_input": "2023-01-04T18:23:29.795685Z",
     "iopub.status.busy": "2023-01-04T18:23:29.795306Z",
     "iopub.status.idle": "2023-01-04T18:23:30.026026Z",
     "shell.execute_reply": "2023-01-04T18:23:30.025057Z"
    },
    "papermill": {
     "duration": 0.244824,
     "end_time": "2023-01-04T18:23:30.027984",
     "exception": false,
     "start_time": "2023-01-04T18:23:29.783160",
     "status": "completed"
    },
    "tags": []
   },
   "outputs": [
    {
     "name": "stderr",
     "output_type": "stream",
     "text": [
      "/opt/conda/lib/python3.7/site-packages/seaborn/_decorators.py:43: FutureWarning: Pass the following variable as a keyword arg: x. From version 0.12, the only valid positional argument will be `data`, and passing other arguments without an explicit keyword will result in an error or misinterpretation.\n",
      "  FutureWarning\n"
     ]
    },
    {
     "data": {
      "image/png": "[encoded data removed]",
      "text/plain": [
       "<Figure size 1080x288 with 1 Axes>"
      ]
     },
     "metadata": {
      "image/png": {
       "height": 272,
       "width": 912
      }
     },
     "output_type": "display_data"
    }
   ],
   "source": [
    "def to_sentiment(rating):\n",
    "  rating = int(rating)\n",
    "  if rating <= 2:\n",
    "    return 0\n",
    "  elif rating == 3:\n",
    "    return 1\n",
    "  else:\n",
    "    return 2\n",
    "df['sentiment'] = df.score.apply(to_sentiment)\n",
    "class_names = ['negative', 'neutral', 'positive']\n",
    "ax = sns.countplot(df.sentiment)\n",
    "plt.xlabel('review sentiment')\n",
    "ax.set_xticklabels(class_names);"
   ]
  },
  {
   "cell_type": "code",
   "execution_count": 9,
   "id": "810a69f7",
   "metadata": {
    "execution": {
     "iopub.execute_input": "2023-01-04T18:23:30.053053Z",
     "iopub.status.busy": "2023-01-04T18:23:30.052538Z",
     "iopub.status.idle": "2023-01-04T18:23:30.278916Z",
     "shell.execute_reply": "2023-01-04T18:23:30.277856Z"
    },
    "papermill": {
     "duration": 0.240864,
     "end_time": "2023-01-04T18:23:30.280754",
     "exception": false,
     "start_time": "2023-01-04T18:23:30.039890",
     "status": "completed"
    },
    "tags": []
   },
   "outputs": [
    {
     "name": "stderr",
     "output_type": "stream",
     "text": [
      "/opt/conda/lib/python3.7/site-packages/seaborn/_decorators.py:43: FutureWarning: Pass the following variable as a keyword arg: x. From version 0.12, the only valid positional argument will be `data`, and passing other arguments without an explicit keyword will result in an error or misinterpretation.\n",
      "  FutureWarning\n"
     ]
    },
    {
     "data": {
      "text/plain": [
       "<AxesSubplot:xlabel='sentiment', ylabel='count'>"
      ]
     },
     "execution_count": 9,
     "metadata": {},
     "output_type": "execute_result"
    },
    {
     "data": {
      "image/png": "[encoded data removed]",
      "text/plain": [
       "<Figure size 1080x288 with 1 Axes>"
      ]
     },
     "metadata": {
      "image/png": {
       "height": 272,
       "width": 912
      }
     },
     "output_type": "display_data"
    }
   ],
   "source": [
    "sns.countplot(df.sentiment)"
   ]
  },
  {
   "cell_type": "code",
   "execution_count": 10,
   "id": "363f5822",
   "metadata": {
    "execution": {
     "iopub.execute_input": "2023-01-04T18:23:30.307311Z",
     "iopub.status.busy": "2023-01-04T18:23:30.306619Z",
     "iopub.status.idle": "2023-01-04T18:23:30.311391Z",
     "shell.execute_reply": "2023-01-04T18:23:30.309902Z"
    },
    "papermill": {
     "duration": 0.021067,
     "end_time": "2023-01-04T18:23:30.313788",
     "exception": false,
     "start_time": "2023-01-04T18:23:30.292721",
     "status": "completed"
    },
    "tags": []
   },
   "outputs": [],
   "source": [
    "classes=['negetive','neutral','positive']"
   ]
  },
  {
   "cell_type": "code",
   "execution_count": 11,
   "id": "aff071a9",
   "metadata": {
    "execution": {
     "iopub.execute_input": "2023-01-04T18:23:30.341067Z",
     "iopub.status.busy": "2023-01-04T18:23:30.340703Z",
     "iopub.status.idle": "2023-01-04T18:23:30.349689Z",
     "shell.execute_reply": "2023-01-04T18:23:30.347996Z"
    },
    "papermill": {
     "duration": 0.025863,
     "end_time": "2023-01-04T18:23:30.352236",
     "exception": false,
     "start_time": "2023-01-04T18:23:30.326373",
     "status": "completed"
    },
    "tags": []
   },
   "outputs": [
    {
     "name": "stdout",
     "output_type": "stream",
     "text": [
      "0 0\n"
     ]
    }
   ],
   "source": [
    "print(df.content.isnull().sum(),df.sentiment.isnull().sum())"
   ]
  },
  {
   "cell_type": "code",
   "execution_count": 12,
   "id": "8bfcc403",
   "metadata": {
    "execution": {
     "iopub.execute_input": "2023-01-04T18:23:30.380967Z",
     "iopub.status.busy": "2023-01-04T18:23:30.379327Z",
     "iopub.status.idle": "2023-01-04T18:23:31.402151Z",
     "shell.execute_reply": "2023-01-04T18:23:31.401143Z"
    },
    "papermill": {
     "duration": 1.03926,
     "end_time": "2023-01-04T18:23:31.404730",
     "exception": false,
     "start_time": "2023-01-04T18:23:30.365470",
     "status": "completed"
    },
    "tags": []
   },
   "outputs": [
    {
     "data": {
      "application/vnd.jupyter.widget-view+json": {
       "model_id": "397af9c98b6e4484a2d8e8e20c1eef6b",
       "version_major": 2,
       "version_minor": 0
      },
      "text/plain": [
       "Downloading:   0%|          | 0.00/208k [00:00<?, ?B/s]"
      ]
     },
     "metadata": {},
     "output_type": "display_data"
    },
    {
     "data": {
      "application/vnd.jupyter.widget-view+json": {
       "model_id": "978c74ce4e5b4ac48219399cce7d4feb",
       "version_major": 2,
       "version_minor": 0
      },
      "text/plain": [
       "Downloading:   0%|          | 0.00/29.0 [00:00<?, ?B/s]"
      ]
     },
     "metadata": {},
     "output_type": "display_data"
    },
    {
     "data": {
      "application/vnd.jupyter.widget-view+json": {
       "model_id": "21be63ad66654a5692a124811ae76551",
       "version_major": 2,
       "version_minor": 0
      },
      "text/plain": [
       "Downloading:   0%|          | 0.00/570 [00:00<?, ?B/s]"
      ]
     },
     "metadata": {},
     "output_type": "display_data"
    }
   ],
   "source": [
    "Tokenizer= BertTokenizer.from_pretrained('bert-base-cased')"
   ]
  },
  {
   "cell_type": "code",
   "execution_count": 13,
   "id": "8c81ae77",
   "metadata": {
    "execution": {
     "iopub.execute_input": "2023-01-04T18:23:31.435665Z",
     "iopub.status.busy": "2023-01-04T18:23:31.435070Z",
     "iopub.status.idle": "2023-01-04T18:23:31.442559Z",
     "shell.execute_reply": "2023-01-04T18:23:31.440451Z"
    },
    "papermill": {
     "duration": 0.027452,
     "end_time": "2023-01-04T18:23:31.445530",
     "exception": false,
     "start_time": "2023-01-04T18:23:31.418078",
     "status": "completed"
    },
    "tags": []
   },
   "outputs": [],
   "source": [
    "simple_text='it is said mothers teachers and preachers have changed the destiny of nations'"
   ]
  },
  {
   "cell_type": "code",
   "execution_count": 14,
   "id": "caf1845e",
   "metadata": {
    "execution": {
     "iopub.execute_input": "2023-01-04T18:23:31.473956Z",
     "iopub.status.busy": "2023-01-04T18:23:31.473603Z",
     "iopub.status.idle": "2023-01-04T18:23:31.485055Z",
     "shell.execute_reply": "2023-01-04T18:23:31.483548Z"
    },
    "papermill": {
     "duration": 0.02844,
     "end_time": "2023-01-04T18:23:31.487435",
     "exception": false,
     "start_time": "2023-01-04T18:23:31.458995",
     "status": "completed"
    },
    "tags": []
   },
   "outputs": [
    {
     "name": "stdout",
     "output_type": "stream",
     "text": [
      "it is said mothers teachers and preachers have changed the destiny of nations\n",
      "['it', 'is', 'said', 'mothers', 'teachers', 'and', 'preacher', '##s', 'have', 'changed', 'the', 'destiny', 'of', 'nations']\n",
      "[1122, 1110, 1163, 12694, 4952, 1105, 18154, 1116, 1138, 2014, 1103, 16988, 1104, 6015]\n"
     ]
    }
   ],
   "source": [
    "tokens=Tokenizer.tokenize(simple_text)\n",
    "token_ids=Tokenizer.convert_tokens_to_ids(tokens)\n",
    "print(simple_text)\n",
    "print(tokens)\n",
    "print(token_ids)"
   ]
  },
  {
   "cell_type": "code",
   "execution_count": 15,
   "id": "467ba857",
   "metadata": {
    "execution": {
     "iopub.execute_input": "2023-01-04T18:23:31.517567Z",
     "iopub.status.busy": "2023-01-04T18:23:31.517204Z",
     "iopub.status.idle": "2023-01-04T18:23:31.530799Z",
     "shell.execute_reply": "2023-01-04T18:23:31.529331Z"
    },
    "papermill": {
     "duration": 0.032419,
     "end_time": "2023-01-04T18:23:31.533822",
     "exception": false,
     "start_time": "2023-01-04T18:23:31.501403",
     "status": "completed"
    },
    "tags": []
   },
   "outputs": [
    {
     "name": "stderr",
     "output_type": "stream",
     "text": [
      "Truncation was not explicitly activated but `max_length` is provided a specific value, please use `truncation=True` to explicitly truncate examples to max length. Defaulting to 'longest_first' truncation strategy. If you encode pairs of sequences (GLUE-style) with the tokenizer you can select this strategy more precisely by providing a specific strategy to `truncation`.\n",
      "/opt/conda/lib/python3.7/site-packages/transformers/tokenization_utils_base.py:2307: FutureWarning: The `pad_to_max_length` argument is deprecated and will be removed in a future version, use `padding=True` or `padding='longest'` to pad to the longest sequence in the batch, or use `padding='max_length'` to pad to a max length. In this case, you can give a specific length with `max_length` (e.g. `max_length=45`) or leave max_length to None to pad to the maximal input size of the model (e.g. 512 for Bert).\n",
      "  FutureWarning,\n"
     ]
    }
   ],
   "source": [
    "encoding= Tokenizer.encode_plus(simple_text,\n",
    "                               max_length=32,\n",
    "                               pad_to_max_length=True,\n",
    "                               return_attention_mask=True,\n",
    "                               add_special_tokens=True,\n",
    "                               return_token_type_ids=False,\n",
    "                               return_tensors='pt')"
   ]
  },
  {
   "cell_type": "code",
   "execution_count": 16,
   "id": "38708ba6",
   "metadata": {
    "execution": {
     "iopub.execute_input": "2023-01-04T18:23:31.562442Z",
     "iopub.status.busy": "2023-01-04T18:23:31.561856Z",
     "iopub.status.idle": "2023-01-04T18:23:31.568535Z",
     "shell.execute_reply": "2023-01-04T18:23:31.567824Z"
    },
    "papermill": {
     "duration": 0.022811,
     "end_time": "2023-01-04T18:23:31.570194",
     "exception": false,
     "start_time": "2023-01-04T18:23:31.547383",
     "status": "completed"
    },
    "tags": []
   },
   "outputs": [
    {
     "data": {
      "text/plain": [
       "dict_keys(['input_ids', 'attention_mask'])"
      ]
     },
     "execution_count": 16,
     "metadata": {},
     "output_type": "execute_result"
    }
   ],
   "source": [
    "encoding.keys()"
   ]
  },
  {
   "cell_type": "code",
   "execution_count": 17,
   "id": "4a5da845",
   "metadata": {
    "execution": {
     "iopub.execute_input": "2023-01-04T18:23:31.598656Z",
     "iopub.status.busy": "2023-01-04T18:23:31.598227Z",
     "iopub.status.idle": "2023-01-04T18:23:31.606185Z",
     "shell.execute_reply": "2023-01-04T18:23:31.605204Z"
    },
    "papermill": {
     "duration": 0.025259,
     "end_time": "2023-01-04T18:23:31.608544",
     "exception": false,
     "start_time": "2023-01-04T18:23:31.583285",
     "status": "completed"
    },
    "tags": []
   },
   "outputs": [
    {
     "data": {
      "text/plain": [
       "tensor([[  101,  1122,  1110,  1163, 12694,  4952,  1105, 18154,  1116,  1138,\n",
       "          2014,  1103, 16988,  1104,  6015,   102,     0,     0,     0,     0,\n",
       "             0,     0,     0,     0,     0,     0,     0,     0,     0,     0,\n",
       "             0,     0]])"
      ]
     },
     "execution_count": 17,
     "metadata": {},
     "output_type": "execute_result"
    }
   ],
   "source": [
    "encoding['input_ids']"
   ]
  },
  {
   "cell_type": "code",
   "execution_count": 18,
   "id": "0dd62064",
   "metadata": {
    "execution": {
     "iopub.execute_input": "2023-01-04T18:23:31.641591Z",
     "iopub.status.busy": "2023-01-04T18:23:31.641159Z",
     "iopub.status.idle": "2023-01-04T18:23:43.241475Z",
     "shell.execute_reply": "2023-01-04T18:23:43.240866Z"
    },
    "papermill": {
     "duration": 11.620306,
     "end_time": "2023-01-04T18:23:43.243702",
     "exception": false,
     "start_time": "2023-01-04T18:23:31.623396",
     "status": "completed"
    },
    "tags": []
   },
   "outputs": [
    {
     "name": "stderr",
     "output_type": "stream",
     "text": [
      "/opt/conda/lib/python3.7/site-packages/seaborn/distributions.py:2619: FutureWarning: `distplot` is a deprecated function and will be removed in a future version. Please adapt your code to use either `displot` (a figure-level function with similar flexibility) or `histplot` (an axes-level function for histograms).\n",
      "  warnings.warn(msg, FutureWarning)\n"
     ]
    },
    {
     "data": {
      "text/plain": [
       "<AxesSubplot:ylabel='Density'>"
      ]
     },
     "execution_count": 18,
     "metadata": {},
     "output_type": "execute_result"
    },
    {
     "data": {
      "image/png": "[encoded data removed]",
      "text/plain": [
       "<Figure size 1080x288 with 1 Axes>"
      ]
     },
     "metadata": {
      "image/png": {
       "height": 254,
       "width": 925
      }
     },
     "output_type": "display_data"
    }
   ],
   "source": [
    "length=[]\n",
    "for text in df.content:\n",
    "    tokens=Tokenizer.tokenize(text)\n",
    "    length.append(len(tokens))\n",
    "sns.distplot(length)"
   ]
  },
  {
   "cell_type": "code",
   "execution_count": 19,
   "id": "faf096e4",
   "metadata": {
    "execution": {
     "iopub.execute_input": "2023-01-04T18:23:43.271915Z",
     "iopub.status.busy": "2023-01-04T18:23:43.271438Z",
     "iopub.status.idle": "2023-01-04T18:23:43.275566Z",
     "shell.execute_reply": "2023-01-04T18:23:43.274763Z"
    },
    "papermill": {
     "duration": 0.02036,
     "end_time": "2023-01-04T18:23:43.277360",
     "exception": false,
     "start_time": "2023-01-04T18:23:43.257000",
     "status": "completed"
    },
    "tags": []
   },
   "outputs": [],
   "source": [
    "max_len=160\n",
    "batch_size=16\n"
   ]
  },
  {
   "cell_type": "code",
   "execution_count": 20,
   "id": "aa9c647b",
   "metadata": {
    "execution": {
     "iopub.execute_input": "2023-01-04T18:23:43.305757Z",
     "iopub.status.busy": "2023-01-04T18:23:43.305280Z",
     "iopub.status.idle": "2023-01-04T18:23:43.312360Z",
     "shell.execute_reply": "2023-01-04T18:23:43.311706Z"
    },
    "papermill": {
     "duration": 0.023731,
     "end_time": "2023-01-04T18:23:43.314514",
     "exception": false,
     "start_time": "2023-01-04T18:23:43.290783",
     "status": "completed"
    },
    "tags": []
   },
   "outputs": [],
   "source": [
    "class GPReviews(Dataset):\n",
    "    def __init__(self,reviews,targets,tokenizer,max_len):\n",
    "        self.reviews=reviews\n",
    "        self.targets=targets\n",
    "        self.tokenizer=tokenizer\n",
    "        self.max_len=max_len\n",
    "    \n",
    "    def __len__(self):\n",
    "        return len(self.reviews)\n",
    "    \n",
    "    def __getitem__(self,index):\n",
    "        review=str(self.reviews[index])\n",
    "        target=self.targets[index]\n",
    "        encoding=self.tokenizer.encode_plus(review,\n",
    "                               max_length=self.max_len,\n",
    "                               add_special_tokens=True,\n",
    "                               \n",
    "                               pad_to_max_length=True,\n",
    "                               return_token_type_ids=False,\n",
    "                               return_attention_mask=True,\n",
    "                               return_tensors='pt',\n",
    "                               )\n",
    "        return {'review':review,\n",
    "               'input_ids':encoding['input_ids'].flatten(),\n",
    "               'attention_mask':encoding['attention_mask'].flatten(),\n",
    "               'target':target}"
   ]
  },
  {
   "cell_type": "code",
   "execution_count": 21,
   "id": "fc5ae17e",
   "metadata": {
    "execution": {
     "iopub.execute_input": "2023-01-04T18:23:43.343167Z",
     "iopub.status.busy": "2023-01-04T18:23:43.342623Z",
     "iopub.status.idle": "2023-01-04T18:23:43.347429Z",
     "shell.execute_reply": "2023-01-04T18:23:43.346799Z"
    },
    "papermill": {
     "duration": 0.021785,
     "end_time": "2023-01-04T18:23:43.349607",
     "exception": false,
     "start_time": "2023-01-04T18:23:43.327822",
     "status": "completed"
    },
    "tags": []
   },
   "outputs": [],
   "source": [
    "def create_data_loader(data,tokenizer,batch_size,max_len):\n",
    "    ds=GPReviews(\n",
    "    reviews=data.content.to_numpy(),\n",
    "    targets=data.sentiment.to_numpy(),\n",
    "    tokenizer=tokenizer,\n",
    "    max_len=max_len)\n",
    "    return DataLoader(ds,batch_size=batch_size,num_workers=4)"
   ]
  },
  {
   "cell_type": "code",
   "execution_count": null,
   "id": "592649ad",
   "metadata": {
    "papermill": {
     "duration": 0.012346,
     "end_time": "2023-01-04T18:23:43.374943",
     "exception": false,
     "start_time": "2023-01-04T18:23:43.362597",
     "status": "completed"
    },
    "tags": []
   },
   "outputs": [],
   "source": []
  },
  {
   "cell_type": "code",
   "execution_count": 22,
   "id": "67d2c4ea",
   "metadata": {
    "execution": {
     "iopub.execute_input": "2023-01-04T18:23:43.402502Z",
     "iopub.status.busy": "2023-01-04T18:23:43.401956Z",
     "iopub.status.idle": "2023-01-04T18:23:43.416578Z",
     "shell.execute_reply": "2023-01-04T18:23:43.415005Z"
    },
    "papermill": {
     "duration": 0.030744,
     "end_time": "2023-01-04T18:23:43.418527",
     "exception": false,
     "start_time": "2023-01-04T18:23:43.387783",
     "status": "completed"
    },
    "tags": []
   },
   "outputs": [
    {
     "name": "stdout",
     "output_type": "stream",
     "text": [
      "(13384, 12) (1181, 12) (1181, 12)\n"
     ]
    }
   ],
   "source": [
    "train_sp,val_sp=train_test_split(df,test_size=.15,random_state=42)\n",
    "val_sp,test_sp=train_test_split(val_sp,test_size=.5,random_state=42)\n",
    "print(train_sp.shape,val_sp.shape,test_sp.shape)"
   ]
  },
  {
   "cell_type": "code",
   "execution_count": 23,
   "id": "54a26488",
   "metadata": {
    "execution": {
     "iopub.execute_input": "2023-01-04T18:23:43.446109Z",
     "iopub.status.busy": "2023-01-04T18:23:43.445773Z",
     "iopub.status.idle": "2023-01-04T18:23:43.452832Z",
     "shell.execute_reply": "2023-01-04T18:23:43.451257Z"
    },
    "papermill": {
     "duration": 0.023279,
     "end_time": "2023-01-04T18:23:43.454759",
     "exception": false,
     "start_time": "2023-01-04T18:23:43.431480",
     "status": "completed"
    },
    "tags": []
   },
   "outputs": [],
   "source": [
    "train_loader=create_data_loader(train_sp,Tokenizer,batch_size,max_len)\n",
    "val_loader=create_data_loader(val_sp,Tokenizer,batch_size,max_len)\n",
    "test_loader=create_data_loader(test_sp,Tokenizer,batch_size,max_len)"
   ]
  },
  {
   "cell_type": "code",
   "execution_count": 24,
   "id": "ca3f3e67",
   "metadata": {
    "execution": {
     "iopub.execute_input": "2023-01-04T18:23:43.484442Z",
     "iopub.status.busy": "2023-01-04T18:23:43.483845Z",
     "iopub.status.idle": "2023-01-04T18:23:43.657605Z",
     "shell.execute_reply": "2023-01-04T18:23:43.655921Z"
    },
    "papermill": {
     "duration": 0.191827,
     "end_time": "2023-01-04T18:23:43.660562",
     "exception": false,
     "start_time": "2023-01-04T18:23:43.468735",
     "status": "completed"
    },
    "tags": []
   },
   "outputs": [
    {
     "name": "stderr",
     "output_type": "stream",
     "text": [
      "/opt/conda/lib/python3.7/site-packages/transformers/tokenization_utils_base.py:2307: FutureWarning: The `pad_to_max_length` argument is deprecated and will be removed in a future version, use `padding=True` or `padding='longest'` to pad to the longest sequence in the batch, or use `padding='max_length'` to pad to a max length. In this case, you can give a specific length with `max_length` (e.g. `max_length=45`) or leave max_length to None to pad to the maximal input size of the model (e.g. 512 for Bert).\n",
      "  FutureWarning,\n",
      "/opt/conda/lib/python3.7/site-packages/transformers/tokenization_utils_base.py:2307: FutureWarning: The `pad_to_max_length` argument is deprecated and will be removed in a future version, use `padding=True` or `padding='longest'` to pad to the longest sequence in the batch, or use `padding='max_length'` to pad to a max length. In this case, you can give a specific length with `max_length` (e.g. `max_length=45`) or leave max_length to None to pad to the maximal input size of the model (e.g. 512 for Bert).\n",
      "  FutureWarning,\n",
      "/opt/conda/lib/python3.7/site-packages/transformers/tokenization_utils_base.py:2307: FutureWarning: The `pad_to_max_length` argument is deprecated and will be removed in a future version, use `padding=True` or `padding='longest'` to pad to the longest sequence in the batch, or use `padding='max_length'` to pad to a max length. In this case, you can give a specific length with `max_length` (e.g. `max_length=45`) or leave max_length to None to pad to the maximal input size of the model (e.g. 512 for Bert).\n",
      "  FutureWarning,\n",
      "/opt/conda/lib/python3.7/site-packages/transformers/tokenization_utils_base.py:2307: FutureWarning: The `pad_to_max_length` argument is deprecated and will be removed in a future version, use `padding=True` or `padding='longest'` to pad to the longest sequence in the batch, or use `padding='max_length'` to pad to a max length. In this case, you can give a specific length with `max_length` (e.g. `max_length=45`) or leave max_length to None to pad to the maximal input size of the model (e.g. 512 for Bert).\n",
      "  FutureWarning,\n"
     ]
    },
    {
     "data": {
      "text/plain": [
       "torch.Size([16, 160])"
      ]
     },
     "execution_count": 24,
     "metadata": {},
     "output_type": "execute_result"
    }
   ],
   "source": [
    "data=next(iter(train_loader))\n",
    "data['attention_mask'].shape"
   ]
  },
  {
   "cell_type": "code",
   "execution_count": 25,
   "id": "63408a9c",
   "metadata": {
    "execution": {
     "iopub.execute_input": "2023-01-04T18:23:43.690323Z",
     "iopub.status.busy": "2023-01-04T18:23:43.689981Z",
     "iopub.status.idle": "2023-01-04T18:24:13.260623Z",
     "shell.execute_reply": "2023-01-04T18:24:13.259540Z"
    },
    "papermill": {
     "duration": 29.588203,
     "end_time": "2023-01-04T18:24:13.262973",
     "exception": false,
     "start_time": "2023-01-04T18:23:43.674770",
     "status": "completed"
    },
    "tags": []
   },
   "outputs": [
    {
     "data": {
      "application/vnd.jupyter.widget-view+json": {
       "model_id": "6a9da468228941d3b1ff04f8da7931cd",
       "version_major": 2,
       "version_minor": 0
      },
      "text/plain": [
       "Downloading:   0%|          | 0.00/416M [00:00<?, ?B/s]"
      ]
     },
     "metadata": {},
     "output_type": "display_data"
    },
    {
     "name": "stderr",
     "output_type": "stream",
     "text": [
      "Some weights of the model checkpoint at bert-base-cased were not used when initializing BertModel: ['cls.predictions.transform.LayerNorm.bias', 'cls.predictions.transform.dense.bias', 'cls.predictions.transform.dense.weight', 'cls.seq_relationship.weight', 'cls.predictions.transform.LayerNorm.weight', 'cls.predictions.decoder.weight', 'cls.predictions.bias', 'cls.seq_relationship.bias']\n",
      "- This IS expected if you are initializing BertModel from the checkpoint of a model trained on another task or with another architecture (e.g. initializing a BertForSequenceClassification model from a BertForPreTraining model).\n",
      "- This IS NOT expected if you are initializing BertModel from the checkpoint of a model that you expect to be exactly identical (initializing a BertForSequenceClassification model from a BertForSequenceClassification model).\n"
     ]
    }
   ],
   "source": [
    "model=BertModel.from_pretrained('bert-base-cased')\n",
    "result = model(data['input_ids'],data['attention_mask'])"
   ]
  },
  {
   "cell_type": "code",
   "execution_count": 26,
   "id": "afbe64e6",
   "metadata": {
    "execution": {
     "iopub.execute_input": "2023-01-04T18:24:13.293183Z",
     "iopub.status.busy": "2023-01-04T18:24:13.292853Z",
     "iopub.status.idle": "2023-01-04T18:24:13.302674Z",
     "shell.execute_reply": "2023-01-04T18:24:13.302013Z"
    },
    "papermill": {
     "duration": 0.026877,
     "end_time": "2023-01-04T18:24:13.304391",
     "exception": false,
     "start_time": "2023-01-04T18:24:13.277514",
     "status": "completed"
    },
    "tags": []
   },
   "outputs": [
    {
     "data": {
      "text/plain": [
       "tensor([[[ 0.5585,  0.3215,  0.1304,  ..., -0.1965,  0.4893,  0.0379],\n",
       "         [ 0.5507, -0.1038,  0.2233,  ..., -0.1437,  0.2221,  0.0626],\n",
       "         [ 0.3829,  0.0783,  0.1376,  ..., -0.0379, -0.2684, -0.1008],\n",
       "         ...,\n",
       "         [ 0.2392,  0.1115,  0.1723,  ..., -0.2341,  0.2597,  0.1889],\n",
       "         [ 0.1516,  0.4152, -0.0351,  ...,  0.0284,  0.1916,  0.1482],\n",
       "         [ 0.1600,  0.4091, -0.0972,  ...,  0.0334,  0.1929,  0.1271]],\n",
       "\n",
       "        [[ 0.3585,  0.0149, -0.0422,  ..., -0.3002,  0.1595,  0.0656],\n",
       "         [ 0.7169, -0.4883,  0.1108,  ..., -0.2854,  0.0379,  0.2677],\n",
       "         [-0.2729,  0.0802,  0.0226,  ..., -0.0800,  0.4992,  0.2614],\n",
       "         ...,\n",
       "         [ 0.1651,  0.0498,  0.2397,  ..., -0.2339, -0.1280, -0.0161],\n",
       "         [ 0.1564, -0.2785, -0.1043,  ...,  0.0404, -0.1771,  0.2580],\n",
       "         [ 0.1741,  0.0083,  0.2690,  ..., -0.3165, -0.1754,  0.0700]],\n",
       "\n",
       "        [[ 0.6478,  0.0663, -0.3227,  ..., -0.2543,  0.1905,  0.2605],\n",
       "         [ 0.3721, -0.4710,  0.6492,  ..., -0.0865, -0.0116,  0.2880],\n",
       "         [ 0.3161, -0.0444, -0.2520,  ...,  0.2636, -0.2021, -0.1066],\n",
       "         ...,\n",
       "         [-0.0245,  0.3569,  0.2542,  ...,  0.5075,  0.1661, -0.4596],\n",
       "         [ 0.0607,  0.1879,  0.0694,  ...,  0.2969,  0.2120, -0.5635],\n",
       "         [ 0.0343,  0.2967,  0.1636,  ...,  0.4220,  0.1540, -0.5113]],\n",
       "\n",
       "        ...,\n",
       "\n",
       "        [[ 0.4967,  0.2696, -0.4156,  ..., -0.2556,  0.2398,  0.3538],\n",
       "         [ 0.4636, -0.2856,  0.3201,  ..., -0.3431,  0.3049,  0.4925],\n",
       "         [ 0.2463,  0.0667, -0.1065,  ..., -0.2549,  0.6294,  0.7224],\n",
       "         ...,\n",
       "         [-0.0202, -0.3150, -0.0486,  ..., -0.0149, -0.5347,  0.6380],\n",
       "         [ 0.2517,  0.1596,  0.1237,  ..., -0.0797, -0.4309,  0.3820],\n",
       "         [ 0.0368, -0.3654, -0.0418,  ...,  0.0916, -0.4400,  0.5818]],\n",
       "\n",
       "        [[ 0.2061,  0.1847, -0.0770,  ...,  0.0845,  0.2567,  0.0508],\n",
       "         [ 0.4329,  0.0691,  0.1584,  ...,  0.6276,  0.4217, -0.0163],\n",
       "         [ 0.2862,  0.2750,  0.0629,  ...,  0.2952,  0.1077,  0.2449],\n",
       "         ...,\n",
       "         [-0.0828, -0.0829,  0.0799,  ...,  0.1325,  0.1565,  0.1046],\n",
       "         [-0.1336, -0.0431,  0.1049,  ...,  0.1961,  0.1664,  0.1254],\n",
       "         [ 0.0631, -0.0121,  0.0315,  ...,  0.0462,  0.1273,  0.1458]],\n",
       "\n",
       "        [[ 0.5113,  0.0453, -0.1317,  ..., -0.3547,  0.4323,  0.1239],\n",
       "         [ 0.2340, -0.2283,  0.1196,  ..., -0.4820,  0.3930,  0.1928],\n",
       "         [ 0.1249, -0.1803, -0.0395,  ...,  0.1724,  0.0629,  0.2815],\n",
       "         ...,\n",
       "         [-0.2143,  0.4715, -0.2241,  ...,  0.2552,  0.0577,  0.3262],\n",
       "         [-0.1341,  0.5004, -0.2356,  ...,  0.2141, -0.0559,  0.2439],\n",
       "         [-0.1902,  0.4859, -0.2416,  ...,  0.2795,  0.0532,  0.3066]]],\n",
       "       grad_fn=<NativeLayerNormBackward0>)"
      ]
     },
     "execution_count": 26,
     "metadata": {},
     "output_type": "execute_result"
    }
   ],
   "source": [
    "result[0]"
   ]
  },
  {
   "cell_type": "code",
   "execution_count": 27,
   "id": "669ba82b",
   "metadata": {
    "execution": {
     "iopub.execute_input": "2023-01-04T18:24:13.334427Z",
     "iopub.status.busy": "2023-01-04T18:24:13.333906Z",
     "iopub.status.idle": "2023-01-04T18:24:24.950642Z",
     "shell.execute_reply": "2023-01-04T18:24:24.949506Z"
    },
    "papermill": {
     "duration": 11.634536,
     "end_time": "2023-01-04T18:24:24.952704",
     "exception": false,
     "start_time": "2023-01-04T18:24:13.318168",
     "status": "completed"
    },
    "tags": []
   },
   "outputs": [
    {
     "data": {
      "text/plain": [
       "odict_keys(['last_hidden_state', 'pooler_output'])"
      ]
     },
     "execution_count": 27,
     "metadata": {},
     "output_type": "execute_result"
    }
   ],
   "source": [
    "output=model(data['input_ids'],data['attention_mask'])\n",
    "output.keys()"
   ]
  },
  {
   "cell_type": "code",
   "execution_count": 28,
   "id": "8ee7c8c6",
   "metadata": {
    "execution": {
     "iopub.execute_input": "2023-01-04T18:24:24.983862Z",
     "iopub.status.busy": "2023-01-04T18:24:24.982472Z",
     "iopub.status.idle": "2023-01-04T18:24:24.989844Z",
     "shell.execute_reply": "2023-01-04T18:24:24.988820Z"
    },
    "papermill": {
     "duration": 0.02493,
     "end_time": "2023-01-04T18:24:24.991989",
     "exception": false,
     "start_time": "2023-01-04T18:24:24.967059",
     "status": "completed"
    },
    "tags": []
   },
   "outputs": [],
   "source": [
    "class sentimentclassifier(nn.Module):\n",
    "    def __init__(self,n_classes):\n",
    "        super(sentimentclassifier,self).__init__()\n",
    "        self.bert=BertModel.from_pretrained('bert-base-cased')\n",
    "        self.drop=nn.Dropout(p=0.3)\n",
    "        self.linear=nn.Linear(self.bert.config.hidden_size,n_classes)\n",
    "        self.softmax=nn.Softmax(dim=1)        \n",
    "    def forward(self,input_ids,attention_mask):\n",
    "        bert_out=self.bert(input_ids,attention_mask)\n",
    "        drop_out=self.drop(bert_out[1])\n",
    "        line_out=self.linear(drop_out)\n",
    "        soft_out=self.softmax(line_out)\n",
    "        return soft_out"
   ]
  },
  {
   "cell_type": "code",
   "execution_count": 29,
   "id": "3312c4e6",
   "metadata": {
    "execution": {
     "iopub.execute_input": "2023-01-04T18:24:25.022331Z",
     "iopub.status.busy": "2023-01-04T18:24:25.021984Z",
     "iopub.status.idle": "2023-01-04T18:24:26.382471Z",
     "shell.execute_reply": "2023-01-04T18:24:26.381074Z"
    },
    "papermill": {
     "duration": 1.376909,
     "end_time": "2023-01-04T18:24:26.384078",
     "exception": false,
     "start_time": "2023-01-04T18:24:25.007169",
     "status": "completed"
    },
    "tags": []
   },
   "outputs": [
    {
     "name": "stderr",
     "output_type": "stream",
     "text": [
      "Some weights of the model checkpoint at bert-base-cased were not used when initializing BertModel: ['cls.predictions.transform.LayerNorm.bias', 'cls.predictions.transform.dense.bias', 'cls.predictions.transform.dense.weight', 'cls.seq_relationship.weight', 'cls.predictions.transform.LayerNorm.weight', 'cls.predictions.decoder.weight', 'cls.predictions.bias', 'cls.seq_relationship.bias']\n",
      "- This IS expected if you are initializing BertModel from the checkpoint of a model trained on another task or with another architecture (e.g. initializing a BertForSequenceClassification model from a BertForPreTraining model).\n",
      "- This IS NOT expected if you are initializing BertModel from the checkpoint of a model that you expect to be exactly identical (initializing a BertForSequenceClassification model from a BertForSequenceClassification model).\n"
     ]
    },
    {
     "name": "stdout",
     "output_type": "stream",
     "text": [
      "this is text\n"
     ]
    }
   ],
   "source": [
    "my_model=sentimentclassifier(3)\n",
    "my_model.to(device)\n",
    "print('this is text')"
   ]
  },
  {
   "cell_type": "code",
   "execution_count": 30,
   "id": "5bd0495d",
   "metadata": {
    "execution": {
     "iopub.execute_input": "2023-01-04T18:24:26.413431Z",
     "iopub.status.busy": "2023-01-04T18:24:26.413108Z",
     "iopub.status.idle": "2023-01-04T18:24:26.420108Z",
     "shell.execute_reply": "2023-01-04T18:24:26.418744Z"
    },
    "papermill": {
     "duration": 0.024446,
     "end_time": "2023-01-04T18:24:26.422367",
     "exception": false,
     "start_time": "2023-01-04T18:24:26.397921",
     "status": "completed"
    },
    "tags": []
   },
   "outputs": [
    {
     "data": {
      "text/plain": [
       "dict_keys(['review', 'input_ids', 'attention_mask', 'target'])"
      ]
     },
     "execution_count": 30,
     "metadata": {},
     "output_type": "execute_result"
    }
   ],
   "source": [
    "data.keys()"
   ]
  },
  {
   "cell_type": "code",
   "execution_count": 31,
   "id": "46e53fe5",
   "metadata": {
    "execution": {
     "iopub.execute_input": "2023-01-04T18:24:26.451783Z",
     "iopub.status.busy": "2023-01-04T18:24:26.451436Z",
     "iopub.status.idle": "2023-01-04T18:24:26.462670Z",
     "shell.execute_reply": "2023-01-04T18:24:26.461100Z"
    },
    "papermill": {
     "duration": 0.028475,
     "end_time": "2023-01-04T18:24:26.464917",
     "exception": false,
     "start_time": "2023-01-04T18:24:26.436442",
     "status": "completed"
    },
    "tags": []
   },
   "outputs": [
    {
     "data": {
      "text/plain": [
       "(torch.Size([16, 160]), torch.Size([16, 160]))"
      ]
     },
     "execution_count": 31,
     "metadata": {},
     "output_type": "execute_result"
    }
   ],
   "source": [
    "input_ids=data['input_ids'].to(device)\n",
    "attention_mask=data['attention_mask'].to(device)\n",
    "model=model.to(device)\n",
    "input_ids.shape,attention_mask.shape"
   ]
  },
  {
   "cell_type": "code",
   "execution_count": 32,
   "id": "1c340927",
   "metadata": {
    "execution": {
     "iopub.execute_input": "2023-01-04T18:24:26.494653Z",
     "iopub.status.busy": "2023-01-04T18:24:26.494309Z",
     "iopub.status.idle": "2023-01-04T18:24:37.974329Z",
     "shell.execute_reply": "2023-01-04T18:24:37.972470Z"
    },
    "papermill": {
     "duration": 11.497755,
     "end_time": "2023-01-04T18:24:37.976843",
     "exception": false,
     "start_time": "2023-01-04T18:24:26.479088",
     "status": "completed"
    },
    "tags": []
   },
   "outputs": [],
   "source": [
    "output= my_model(input_ids,attention_mask)"
   ]
  },
  {
   "cell_type": "code",
   "execution_count": 33,
   "id": "12c1d2c6",
   "metadata": {
    "execution": {
     "iopub.execute_input": "2023-01-04T18:24:38.009532Z",
     "iopub.status.busy": "2023-01-04T18:24:38.009112Z",
     "iopub.status.idle": "2023-01-04T18:24:38.017557Z",
     "shell.execute_reply": "2023-01-04T18:24:38.015636Z"
    },
    "papermill": {
     "duration": 0.027545,
     "end_time": "2023-01-04T18:24:38.020332",
     "exception": false,
     "start_time": "2023-01-04T18:24:37.992787",
     "status": "completed"
    },
    "tags": []
   },
   "outputs": [
    {
     "data": {
      "text/plain": [
       "torch.Size([16, 3])"
      ]
     },
     "execution_count": 33,
     "metadata": {},
     "output_type": "execute_result"
    }
   ],
   "source": [
    "output.shape"
   ]
  },
  {
   "cell_type": "code",
   "execution_count": 34,
   "id": "7780c19e",
   "metadata": {
    "execution": {
     "iopub.execute_input": "2023-01-04T18:24:38.054424Z",
     "iopub.status.busy": "2023-01-04T18:24:38.053725Z",
     "iopub.status.idle": "2023-01-04T18:24:38.070230Z",
     "shell.execute_reply": "2023-01-04T18:24:38.069418Z"
    },
    "papermill": {
     "duration": 0.035899,
     "end_time": "2023-01-04T18:24:38.072582",
     "exception": false,
     "start_time": "2023-01-04T18:24:38.036683",
     "status": "completed"
    },
    "tags": []
   },
   "outputs": [
    {
     "name": "stderr",
     "output_type": "stream",
     "text": [
      "/opt/conda/lib/python3.7/site-packages/transformers/optimization.py:310: FutureWarning: This implementation of AdamW is deprecated and will be removed in a future version. Use the PyTorch implementation torch.optim.AdamW instead, or set `no_deprecation_warning=True` to disable this warning\n",
      "  FutureWarning,\n"
     ]
    }
   ],
   "source": [
    "EPOCHS = 10\n",
    "\n",
    "optimizer = AdamW(my_model.parameters(), lr=2e-5, correct_bias=False)\n",
    "total_steps = len(train_loader) * EPOCHS\n",
    "scheduler = get_linear_schedule_with_warmup(\n",
    "  optimizer,\n",
    "  num_warmup_steps=0,\n",
    "  num_training_steps=total_steps\n",
    ")\n",
    "loss_fn = nn.CrossEntropyLoss().to(device)"
   ]
  },
  {
   "cell_type": "code",
   "execution_count": 35,
   "id": "554ccb81",
   "metadata": {
    "execution": {
     "iopub.execute_input": "2023-01-04T18:24:38.107418Z",
     "iopub.status.busy": "2023-01-04T18:24:38.106953Z",
     "iopub.status.idle": "2023-01-04T18:24:38.115747Z",
     "shell.execute_reply": "2023-01-04T18:24:38.114547Z"
    },
    "papermill": {
     "duration": 0.028395,
     "end_time": "2023-01-04T18:24:38.118258",
     "exception": false,
     "start_time": "2023-01-04T18:24:38.089863",
     "status": "completed"
    },
    "tags": []
   },
   "outputs": [],
   "source": [
    "def train_epoch(data,model,device,optimizer,scheduler,loss_fn,n_examples):\n",
    "    \n",
    "    model.train()\n",
    "    train_loss=[]\n",
    "    correct_preds=0\n",
    "    i=1\n",
    "    for d in data:\n",
    "        input_ids=d['input_ids'].to(device)\n",
    "        attention_mask=d['attention_mask'].to(device)\n",
    "        target=d['target'].to(device)\n",
    "        \n",
    "        i=i+1\n",
    "        if i%100==0:\n",
    "            print(i)\n",
    "        output=model(input_ids,attention_mask)\n",
    "        _,preds=torch.max(output,dim=1)\n",
    "        \n",
    "        loss=loss_fn(output,target)\n",
    "        correct_preds+=torch.sum(preds==target)\n",
    "        train_loss.append(loss.item())\n",
    "        \n",
    "        loss.backward()\n",
    "        nn.utils.clip_grad_norm_(model.parameters(), max_norm=1.0)\n",
    "        optimizer.step()\n",
    "        scheduler.step()\n",
    "        optimizer.zero_grad()\n",
    "        \n",
    "    return correct_preds.double()/n_examples,np.mean(train_loss)\n",
    "        \n",
    "        \n",
    "        \n",
    "        "
   ]
  },
  {
   "cell_type": "code",
   "execution_count": 36,
   "id": "b1142677",
   "metadata": {
    "execution": {
     "iopub.execute_input": "2023-01-04T18:24:38.149802Z",
     "iopub.status.busy": "2023-01-04T18:24:38.149470Z",
     "iopub.status.idle": "2023-01-04T18:24:38.157326Z",
     "shell.execute_reply": "2023-01-04T18:24:38.155920Z"
    },
    "papermill": {
     "duration": 0.027038,
     "end_time": "2023-01-04T18:24:38.159893",
     "exception": false,
     "start_time": "2023-01-04T18:24:38.132855",
     "status": "completed"
    },
    "tags": []
   },
   "outputs": [],
   "source": [
    "def val_epoch(data,model,device,loss_fn,n_examples):\n",
    "    \n",
    "    model.eval()\n",
    "    eval_loss=[]\n",
    "    correct_preds=0\n",
    "    \n",
    "    \n",
    "    with torch.no_grad():\n",
    "        for d in data:\n",
    "            input_ids=d['input_ids'].to(device)\n",
    "            attention_mask=d['attention_mask'].to(device)\n",
    "            target=d['target'].to(device)\n",
    "            \n",
    "\n",
    "            output=model(input_ids,attention_mask)\n",
    "            _,preds=torch.max(output,dim=1)\n",
    "\n",
    "            loss=loss_fn(output,target)\n",
    "            correct_preds+=torch.sum(preds==target)\n",
    "            eval_loss.append(loss.item())\n",
    "            \n",
    "    return correct_preds.double()/n_examples,np.mean(eval_loss)"
   ]
  },
  {
   "cell_type": "code",
   "execution_count": 37,
   "id": "654b83a4",
   "metadata": {
    "execution": {
     "iopub.execute_input": "2023-01-04T18:24:38.193183Z",
     "iopub.status.busy": "2023-01-04T18:24:38.192835Z",
     "iopub.status.idle": "2023-01-05T02:27:28.107475Z",
     "shell.execute_reply": "2023-01-05T02:27:28.106291Z"
    },
    "papermill": {
     "duration": 28969.948288,
     "end_time": "2023-01-05T02:27:28.124802",
     "exception": false,
     "start_time": "2023-01-04T18:24:38.176514",
     "status": "completed"
    },
    "tags": []
   },
   "outputs": [
    {
     "name": "stdout",
     "output_type": "stream",
     "text": [
      "1/10\n",
      "----------------------------------------------------------------------------------------------------\n"
     ]
    },
    {
     "name": "stderr",
     "output_type": "stream",
     "text": [
      "/opt/conda/lib/python3.7/site-packages/transformers/tokenization_utils_base.py:2307: FutureWarning: The `pad_to_max_length` argument is deprecated and will be removed in a future version, use `padding=True` or `padding='longest'` to pad to the longest sequence in the batch, or use `padding='max_length'` to pad to a max length. In this case, you can give a specific length with `max_length` (e.g. `max_length=45`) or leave max_length to None to pad to the maximal input size of the model (e.g. 512 for Bert).\n",
      "  FutureWarning,\n",
      "/opt/conda/lib/python3.7/site-packages/transformers/tokenization_utils_base.py:2307: FutureWarning: The `pad_to_max_length` argument is deprecated and will be removed in a future version, use `padding=True` or `padding='longest'` to pad to the longest sequence in the batch, or use `padding='max_length'` to pad to a max length. In this case, you can give a specific length with `max_length` (e.g. `max_length=45`) or leave max_length to None to pad to the maximal input size of the model (e.g. 512 for Bert).\n",
      "  FutureWarning,\n",
      "/opt/conda/lib/python3.7/site-packages/transformers/tokenization_utils_base.py:2307: FutureWarning: The `pad_to_max_length` argument is deprecated and will be removed in a future version, use `padding=True` or `padding='longest'` to pad to the longest sequence in the batch, or use `padding='max_length'` to pad to a max length. In this case, you can give a specific length with `max_length` (e.g. `max_length=45`) or leave max_length to None to pad to the maximal input size of the model (e.g. 512 for Bert).\n",
      "  FutureWarning,\n",
      "/opt/conda/lib/python3.7/site-packages/transformers/tokenization_utils_base.py:2307: FutureWarning: The `pad_to_max_length` argument is deprecated and will be removed in a future version, use `padding=True` or `padding='longest'` to pad to the longest sequence in the batch, or use `padding='max_length'` to pad to a max length. In this case, you can give a specific length with `max_length` (e.g. `max_length=45`) or leave max_length to None to pad to the maximal input size of the model (e.g. 512 for Bert).\n",
      "  FutureWarning,\n"
     ]
    },
    {
     "name": "stdout",
     "output_type": "stream",
     "text": [
      "100\n",
      "200\n",
      "300\n",
      "400\n",
      "500\n",
      "600\n",
      "700\n",
      "800\n"
     ]
    },
    {
     "name": "stderr",
     "output_type": "stream",
     "text": [
      "/opt/conda/lib/python3.7/site-packages/transformers/tokenization_utils_base.py:2307: FutureWarning: The `pad_to_max_length` argument is deprecated and will be removed in a future version, use `padding=True` or `padding='longest'` to pad to the longest sequence in the batch, or use `padding='max_length'` to pad to a max length. In this case, you can give a specific length with `max_length` (e.g. `max_length=45`) or leave max_length to None to pad to the maximal input size of the model (e.g. 512 for Bert).\n",
      "  FutureWarning,\n",
      "/opt/conda/lib/python3.7/site-packages/transformers/tokenization_utils_base.py:2307: FutureWarning: The `pad_to_max_length` argument is deprecated and will be removed in a future version, use `padding=True` or `padding='longest'` to pad to the longest sequence in the batch, or use `padding='max_length'` to pad to a max length. In this case, you can give a specific length with `max_length` (e.g. `max_length=45`) or leave max_length to None to pad to the maximal input size of the model (e.g. 512 for Bert).\n",
      "  FutureWarning,\n",
      "/opt/conda/lib/python3.7/site-packages/transformers/tokenization_utils_base.py:2307: FutureWarning: The `pad_to_max_length` argument is deprecated and will be removed in a future version, use `padding=True` or `padding='longest'` to pad to the longest sequence in the batch, or use `padding='max_length'` to pad to a max length. In this case, you can give a specific length with `max_length` (e.g. `max_length=45`) or leave max_length to None to pad to the maximal input size of the model (e.g. 512 for Bert).\n",
      "  FutureWarning,\n",
      "/opt/conda/lib/python3.7/site-packages/transformers/tokenization_utils_base.py:2307: FutureWarning: The `pad_to_max_length` argument is deprecated and will be removed in a future version, use `padding=True` or `padding='longest'` to pad to the longest sequence in the batch, or use `padding='max_length'` to pad to a max length. In this case, you can give a specific length with `max_length` (e.g. `max_length=45`) or leave max_length to None to pad to the maximal input size of the model (e.g. 512 for Bert).\n",
      "  FutureWarning,\n"
     ]
    },
    {
     "name": "stdout",
     "output_type": "stream",
     "text": [
      "train_accuracy:0.6212641960549911                    train_loss:0.9127294213256243\n",
      "val_accuracy  :0.6977138018628282                      val_loss:0.8412394612222105\n"
     ]
    }
   ],
   "source": [
    "data=defaultdict(list)\n",
    "for epoch in range(10):\n",
    "    \n",
    "    print(f\"{epoch+1}/{10}\")\n",
    "    print(\"-\"*100)\n",
    "    \n",
    "    tr_acc,tr_loss=train_epoch(train_loader,my_model,device,optimizer,scheduler,loss_fn,len(train_sp))\n",
    "    valid_acc,valid_loss=val_epoch(val_loader,my_model,device,loss_fn,len(val_sp))\n",
    "    data['train_acc'].append(tr_acc.cpu().item())\n",
    "    data['train_loss'].append(tr_loss)\n",
    "    data['val_acc'].append(valid_acc.cpu().item())\n",
    "    data['val_loss'].append(valid_loss)\n",
    "    print(f\"train_accuracy:{tr_acc}                    train_loss:{tr_loss}\")\n",
    "    print(f\"val_accuracy  :{valid_acc}                      val_loss:{valid_loss}\")\n",
    "    break\n",
    "    "
   ]
  },
  {
   "cell_type": "code",
   "execution_count": 38,
   "id": "f9ed5015",
   "metadata": {
    "execution": {
     "iopub.execute_input": "2023-01-05T02:27:28.160112Z",
     "iopub.status.busy": "2023-01-05T02:27:28.159395Z",
     "iopub.status.idle": "2023-01-05T02:27:28.445936Z",
     "shell.execute_reply": "2023-01-05T02:27:28.444082Z"
    },
    "papermill": {
     "duration": 0.306935,
     "end_time": "2023-01-05T02:27:28.448431",
     "exception": false,
     "start_time": "2023-01-05T02:27:28.141496",
     "status": "completed"
    },
    "tags": []
   },
   "outputs": [
    {
     "data": {
      "text/plain": [
       "<matplotlib.legend.Legend at 0x7f869b682490>"
      ]
     },
     "execution_count": 38,
     "metadata": {},
     "output_type": "execute_result"
    },
    {
     "data": {
      "image/png": "[encoded data removed]",
      "text/plain": [
       "<Figure size 1080x288 with 1 Axes>"
      ]
     },
     "metadata": {
      "image/png": {
       "height": 259,
       "width": 881
      }
     },
     "output_type": "display_data"
    }
   ],
   "source": [
    "plt.plot(data['train_acc'],label='train_accuracy')\n",
    "plt.plot(data['val_acc'],label='Valid_Accuracy')\n",
    "plt.ylim([0,1])\n",
    "plt.legend()"
   ]
  },
  {
   "cell_type": "code",
   "execution_count": 39,
   "id": "d942d80e",
   "metadata": {
    "execution": {
     "iopub.execute_input": "2023-01-05T02:27:28.481943Z",
     "iopub.status.busy": "2023-01-05T02:27:28.481549Z",
     "iopub.status.idle": "2023-01-05T02:40:38.941138Z",
     "shell.execute_reply": "2023-01-05T02:40:38.939391Z"
    },
    "papermill": {
     "duration": 790.494715,
     "end_time": "2023-01-05T02:40:38.959001",
     "exception": false,
     "start_time": "2023-01-05T02:27:28.464286",
     "status": "completed"
    },
    "tags": []
   },
   "outputs": [
    {
     "name": "stderr",
     "output_type": "stream",
     "text": [
      "/opt/conda/lib/python3.7/site-packages/transformers/tokenization_utils_base.py:2307: FutureWarning: The `pad_to_max_length` argument is deprecated and will be removed in a future version, use `padding=True` or `padding='longest'` to pad to the longest sequence in the batch, or use `padding='max_length'` to pad to a max length. In this case, you can give a specific length with `max_length` (e.g. `max_length=45`) or leave max_length to None to pad to the maximal input size of the model (e.g. 512 for Bert).\n",
      "  FutureWarning,\n",
      "/opt/conda/lib/python3.7/site-packages/transformers/tokenization_utils_base.py:2307: FutureWarning: The `pad_to_max_length` argument is deprecated and will be removed in a future version, use `padding=True` or `padding='longest'` to pad to the longest sequence in the batch, or use `padding='max_length'` to pad to a max length. In this case, you can give a specific length with `max_length` (e.g. `max_length=45`) or leave max_length to None to pad to the maximal input size of the model (e.g. 512 for Bert).\n",
      "  FutureWarning,\n",
      "/opt/conda/lib/python3.7/site-packages/transformers/tokenization_utils_base.py:2307: FutureWarning: The `pad_to_max_length` argument is deprecated and will be removed in a future version, use `padding=True` or `padding='longest'` to pad to the longest sequence in the batch, or use `padding='max_length'` to pad to a max length. In this case, you can give a specific length with `max_length` (e.g. `max_length=45`) or leave max_length to None to pad to the maximal input size of the model (e.g. 512 for Bert).\n",
      "  FutureWarning,\n",
      "/opt/conda/lib/python3.7/site-packages/transformers/tokenization_utils_base.py:2307: FutureWarning: The `pad_to_max_length` argument is deprecated and will be removed in a future version, use `padding=True` or `padding='longest'` to pad to the longest sequence in the batch, or use `padding='max_length'` to pad to a max length. In this case, you can give a specific length with `max_length` (e.g. `max_length=45`) or leave max_length to None to pad to the maximal input size of the model (e.g. 512 for Bert).\n",
      "  FutureWarning,\n"
     ]
    },
    {
     "name": "stdout",
     "output_type": "stream",
     "text": [
      "Test_Accuracy:0.6875529212531752                 Test_loss:0.8518979734665638\n"
     ]
    }
   ],
   "source": [
    "\n",
    "test_acc,test_loss= val_epoch(test_loader,my_model,device,loss_fn,len(test_sp))\n",
    "print(f\"Test_Accuracy:{test_acc}                 Test_loss:{test_loss}\")"
   ]
  },
  {
   "cell_type": "code",
   "execution_count": 40,
   "id": "3c431f0c",
   "metadata": {
    "execution": {
     "iopub.execute_input": "2023-01-05T02:40:38.994315Z",
     "iopub.status.busy": "2023-01-05T02:40:38.993997Z",
     "iopub.status.idle": "2023-01-05T02:40:39.003388Z",
     "shell.execute_reply": "2023-01-05T02:40:39.001936Z"
    },
    "papermill": {
     "duration": 0.030153,
     "end_time": "2023-01-05T02:40:39.005371",
     "exception": false,
     "start_time": "2023-01-05T02:40:38.975218",
     "status": "completed"
    },
    "tags": []
   },
   "outputs": [],
   "source": [
    "def get_predictions(model, data_loader):\n",
    "\n",
    "  model = model.eval()\n",
    "  review_texts = []\n",
    "  predictions = []\n",
    "  prediction_probs = []\n",
    "  real_values = []\n",
    "  with torch.no_grad():\n",
    "    for d in data_loader:\n",
    "      texts = d[\"review\"]\n",
    "      input_ids = d[\"input_ids\"].to(device)\n",
    "      attention_mask = d[\"attention_mask\"].to(device)\n",
    "      targets = d[\"target\"].to(device)\n",
    "      outputs = model(\n",
    "        input_ids=input_ids,\n",
    "        attention_mask=attention_mask\n",
    "      )\n",
    "      _, preds = torch.max(outputs, dim=1)\n",
    "      review_texts.extend(texts)\n",
    "      predictions.extend(preds)\n",
    "      prediction_probs.extend(outputs)\n",
    "      real_values.extend(targets)\n",
    "  predictions = torch.stack(predictions).cpu()\n",
    "  prediction_probs = torch.stack(prediction_probs).cpu()\n",
    "  real_values = torch.stack(real_values).cpu()\n",
    "  return review_texts, predictions, prediction_probs, real_values"
   ]
  },
  {
   "cell_type": "code",
   "execution_count": 41,
   "id": "e4d461df",
   "metadata": {
    "execution": {
     "iopub.execute_input": "2023-01-05T02:40:39.042275Z",
     "iopub.status.busy": "2023-01-05T02:40:39.040619Z",
     "iopub.status.idle": "2023-01-05T02:40:51.164286Z",
     "shell.execute_reply": "2023-01-05T02:40:51.161704Z"
    },
    "papermill": {
     "duration": 12.144765,
     "end_time": "2023-01-05T02:40:51.167251",
     "exception": true,
     "start_time": "2023-01-05T02:40:39.022486",
     "status": "failed"
    },
    "tags": []
   },
   "outputs": [
    {
     "name": "stderr",
     "output_type": "stream",
     "text": [
      "/opt/conda/lib/python3.7/site-packages/transformers/tokenization_utils_base.py:2307: FutureWarning: The `pad_to_max_length` argument is deprecated and will be removed in a future version, use `padding=True` or `padding='longest'` to pad to the longest sequence in the batch, or use `padding='max_length'` to pad to a max length. In this case, you can give a specific length with `max_length` (e.g. `max_length=45`) or leave max_length to None to pad to the maximal input size of the model (e.g. 512 for Bert).\n",
      "  FutureWarning,\n",
      "/opt/conda/lib/python3.7/site-packages/transformers/tokenization_utils_base.py:2307: FutureWarning: The `pad_to_max_length` argument is deprecated and will be removed in a future version, use `padding=True` or `padding='longest'` to pad to the longest sequence in the batch, or use `padding='max_length'` to pad to a max length. In this case, you can give a specific length with `max_length` (e.g. `max_length=45`) or leave max_length to None to pad to the maximal input size of the model (e.g. 512 for Bert).\n",
      "  FutureWarning,\n",
      "/opt/conda/lib/python3.7/site-packages/transformers/tokenization_utils_base.py:2307: FutureWarning: The `pad_to_max_length` argument is deprecated and will be removed in a future version, use `padding=True` or `padding='longest'` to pad to the longest sequence in the batch, or use `padding='max_length'` to pad to a max length. In this case, you can give a specific length with `max_length` (e.g. `max_length=45`) or leave max_length to None to pad to the maximal input size of the model (e.g. 512 for Bert).\n",
      "  FutureWarning,\n",
      "/opt/conda/lib/python3.7/site-packages/transformers/tokenization_utils_base.py:2307: FutureWarning: The `pad_to_max_length` argument is deprecated and will be removed in a future version, use `padding=True` or `padding='longest'` to pad to the longest sequence in the batch, or use `padding='max_length'` to pad to a max length. In this case, you can give a specific length with `max_length` (e.g. `max_length=45`) or leave max_length to None to pad to the maximal input size of the model (e.g. 512 for Bert).\n",
      "  FutureWarning,\n"
     ]
    },
    {
     "ename": "TypeError",
     "evalue": "max() received an invalid combination of arguments - got (BaseModelOutputWithPoolingAndCrossAttentions, dim=int), but expected one of:\n * (Tensor input)\n * (Tensor input, Tensor other, *, Tensor out)\n * (Tensor input, int dim, bool keepdim, *, tuple of Tensors out)\n * (Tensor input, name dim, bool keepdim, *, tuple of Tensors out)\n",
     "output_type": "error",
     "traceback": [
      "\u001b[0;31m---------------------------------------------------------------------------\u001b[0m",
      "\u001b[0;31mTypeError\u001b[0m                                 Traceback (most recent call last)",
      "\u001b[0;32m/tmp/ipykernel_19/958418161.py\u001b[0m in \u001b[0;36m<module>\u001b[0;34m\u001b[0m\n\u001b[0;32m----> 1\u001b[0;31m \u001b[0my_review_texts\u001b[0m\u001b[0;34m,\u001b[0m \u001b[0my_pred\u001b[0m\u001b[0;34m,\u001b[0m \u001b[0my_pred_probs\u001b[0m\u001b[0;34m,\u001b[0m \u001b[0my_test\u001b[0m \u001b[0;34m=\u001b[0m \u001b[0mget_predictions\u001b[0m\u001b[0;34m(\u001b[0m\u001b[0mmodel\u001b[0m\u001b[0;34m,\u001b[0m\u001b[0mtest_loader\u001b[0m\u001b[0;34m)\u001b[0m\u001b[0;34m\u001b[0m\u001b[0;34m\u001b[0m\u001b[0m\n\u001b[0m",
      "\u001b[0;32m/tmp/ipykernel_19/4052880687.py\u001b[0m in \u001b[0;36mget_predictions\u001b[0;34m(model, data_loader)\u001b[0m\n\u001b[1;32m     16\u001b[0m         \u001b[0mattention_mask\u001b[0m\u001b[0;34m=\u001b[0m\u001b[0mattention_mask\u001b[0m\u001b[0;34m\u001b[0m\u001b[0;34m\u001b[0m\u001b[0m\n\u001b[1;32m     17\u001b[0m       )\n\u001b[0;32m---> 18\u001b[0;31m       \u001b[0m_\u001b[0m\u001b[0;34m,\u001b[0m \u001b[0mpreds\u001b[0m \u001b[0;34m=\u001b[0m \u001b[0mtorch\u001b[0m\u001b[0;34m.\u001b[0m\u001b[0mmax\u001b[0m\u001b[0;34m(\u001b[0m\u001b[0moutputs\u001b[0m\u001b[0;34m,\u001b[0m \u001b[0mdim\u001b[0m\u001b[0;34m=\u001b[0m\u001b[0;36m1\u001b[0m\u001b[0;34m)\u001b[0m\u001b[0;34m\u001b[0m\u001b[0;34m\u001b[0m\u001b[0m\n\u001b[0m\u001b[1;32m     19\u001b[0m       \u001b[0mreview_texts\u001b[0m\u001b[0;34m.\u001b[0m\u001b[0mextend\u001b[0m\u001b[0;34m(\u001b[0m\u001b[0mtexts\u001b[0m\u001b[0;34m)\u001b[0m\u001b[0;34m\u001b[0m\u001b[0;34m\u001b[0m\u001b[0m\n\u001b[1;32m     20\u001b[0m       \u001b[0mpredictions\u001b[0m\u001b[0;34m.\u001b[0m\u001b[0mextend\u001b[0m\u001b[0;34m(\u001b[0m\u001b[0mpreds\u001b[0m\u001b[0;34m)\u001b[0m\u001b[0;34m\u001b[0m\u001b[0;34m\u001b[0m\u001b[0m\n",
      "\u001b[0;31mTypeError\u001b[0m: max() received an invalid combination of arguments - got (BaseModelOutputWithPoolingAndCrossAttentions, dim=int), but expected one of:\n * (Tensor input)\n * (Tensor input, Tensor other, *, Tensor out)\n * (Tensor input, int dim, bool keepdim, *, tuple of Tensors out)\n * (Tensor input, name dim, bool keepdim, *, tuple of Tensors out)\n"
     ]
    }
   ],
   "source": [
    "y_review_texts, y_pred, y_pred_probs, y_test = get_predictions(model,test_loader)"
   ]
  },
  {
   "cell_type": "code",
   "execution_count": null,
   "id": "0c665c97",
   "metadata": {
    "execution": {
     "iopub.status.busy": "2023-01-04T13:27:18.156393Z",
     "iopub.status.idle": "2023-01-04T13:27:18.156909Z",
     "shell.execute_reply": "2023-01-04T13:27:18.156679Z",
     "shell.execute_reply.started": "2023-01-04T13:27:18.156654Z"
    },
    "papermill": {
     "duration": null,
     "end_time": null,
     "exception": null,
     "start_time": null,
     "status": "pending"
    },
    "tags": []
   },
   "outputs": [],
   "source": [
    "print(classification_report(y_test, y_pred, target_names=class_names))"
   ]
  },
  {
   "cell_type": "code",
   "execution_count": null,
   "id": "12670c98",
   "metadata": {
    "execution": {
     "iopub.status.busy": "2023-01-04T13:27:18.159519Z",
     "iopub.status.idle": "2023-01-04T13:27:18.160098Z",
     "shell.execute_reply": "2023-01-04T13:27:18.159796Z",
     "shell.execute_reply.started": "2023-01-04T13:27:18.159769Z"
    },
    "papermill": {
     "duration": null,
     "end_time": null,
     "exception": null,
     "start_time": null,
     "status": "pending"
    },
    "tags": []
   },
   "outputs": [],
   "source": [
    "def show_confusion_matrix(confusion_matrix):\n",
    "  hmap = sns.heatmap(confusion_matrix, annot=True, fmt=\"d\", cmap=\"Blues\")\n",
    "  hmap.yaxis.set_ticklabels(hmap.yaxis.get_ticklabels(), rotation=0, ha='right')\n",
    "  hmap.xaxis.set_ticklabels(hmap.xaxis.get_ticklabels(), rotation=30, ha='right')\n",
    "  plt.ylabel('True sentiment')\n",
    "  plt.xlabel('Predicted sentiment');\n",
    "cm = confusion_matrix(y_test, y_pred)\n",
    "df_cm = pd.DataFrame(cm, index=class_names, columns=class_names)\n",
    "show_confusion_matrix(df_cm)"
   ]
  },
  {
   "cell_type": "code",
   "execution_count": null,
   "id": "faf688b4",
   "metadata": {
    "execution": {
     "iopub.status.busy": "2023-01-04T13:27:18.163175Z",
     "iopub.status.idle": "2023-01-04T13:27:18.163997Z",
     "shell.execute_reply": "2023-01-04T13:27:18.163746Z",
     "shell.execute_reply.started": "2023-01-04T13:27:18.163719Z"
    },
    "papermill": {
     "duration": null,
     "end_time": null,
     "exception": null,
     "start_time": null,
     "status": "pending"
    },
    "tags": []
   },
   "outputs": [],
   "source": [
    "idx = 2\n",
    "review_text = y_review_texts[idx]\n",
    "true_sentiment = y_test[idx]\n",
    "pred_df = pd.DataFrame({\n",
    "  'class_names': class_names,\n",
    "  'values': y_pred_probs[idx]\n",
    "})\n",
    "print(\"\\n\".join(wrap(review_text)))\n",
    "print()\n",
    "print(f'True sentiment: {class_names[true_sentiment]}')"
   ]
  },
  {
   "cell_type": "code",
   "execution_count": null,
   "id": "9fc9a82c",
   "metadata": {
    "papermill": {
     "duration": null,
     "end_time": null,
     "exception": null,
     "start_time": null,
     "status": "pending"
    },
    "tags": []
   },
   "outputs": [],
   "source": []
  }
 ],
 "metadata": {
  "kernelspec": {
   "display_name": "Python 3",
   "language": "python",
   "name": "python3"
  },
  "language_info": {
   "codemirror_mode": {
    "name": "ipython",
    "version": 3
   },
   "file_extension": ".py",
   "mimetype": "text/x-python",
   "name": "python",
   "nbconvert_exporter": "python",
   "pygments_lexer": "ipython3",
   "version": "3.7.12"
  },
  "papermill": {
   "default_parameters": {},
   "duration": 29877.043309,
   "end_time": "2023-01-05T02:40:55.217073",
   "environment_variables": {},
   "exception": true,
   "input_path": "__notebook__.ipynb",
   "output_path": "__notebook__.ipynb",
   "parameters": {},
   "start_time": "2023-01-04T18:22:58.173764",
   "version": "2.3.4"
  },
  "widgets": {
   "application/vnd.jupyter.widget-state+json": {
    "state": {
     "103fc5bcc36246a4a25ce40293a5acf5": {
      "model_module": "@jupyter-widgets/controls",
      "model_module_version": "1.5.0",
      "model_name": "ProgressStyleModel",
      "state": {
       "_model_module": "@jupyter-widgets/controls",
       "_model_module_version": "1.5.0",
       "_model_name": "ProgressStyleModel",
       "_view_count": null,
       "_view_module": "@jupyter-widgets/base",
       "_view_module_version": "1.2.0",
       "_view_name": "StyleView",
       "bar_color": null,
       "description_width": ""
      }
     },
     "11fb32b8c3404382841334533742de74": {
      "model_module": "@jupyter-widgets/controls",
      "model_module_version": "1.5.0",
      "model_name": "HTMLModel",
      "state": {
       "_dom_classes": [],
       "_model_module": "@jupyter-widgets/controls",
       "_model_module_version": "1.5.0",
       "_model_name": "HTMLModel",
       "_view_count": null,
       "_view_module": "@jupyter-widgets/controls",
       "_view_module_version": "1.5.0",
       "_view_name": "HTMLView",
       "description": "",
       "description_tooltip": null,
       "layout": "IPY_MODEL_921c7ff5e7a647d890cc1aab4e2a3386",
       "placeholder": "​",
       "style": "IPY_MODEL_cf09b19a46f745c68f295d6c6fe48db3",
       "value": "Downloading: 100%"
      }
     },
     "1b61565720a04b12bfd9a1a4c9fed639": {
      "model_module": "@jupyter-widgets/base",
      "model_module_version": "1.2.0",
      "model_name": "LayoutModel",
      "state": {
       "_model_module": "@jupyter-widgets/base",
       "_model_module_version": "1.2.0",
       "_model_name": "LayoutModel",
       "_view_count": null,
       "_view_module": "@jupyter-widgets/base",
       "_view_module_version": "1.2.0",
       "_view_name": "LayoutView",
       "align_content": null,
       "align_items": null,
       "align_self": null,
       "border": null,
       "bottom": null,
       "display": null,
       "flex": null,
       "flex_flow": null,
       "grid_area": null,
       "grid_auto_columns": null,
       "grid_auto_flow": null,
       "grid_auto_rows": null,
       "grid_column": null,
       "grid_gap": null,
       "grid_row": null,
       "grid_template_areas": null,
       "grid_template_columns": null,
       "grid_template_rows": null,
       "height": null,
       "justify_content": null,
       "justify_items": null,
       "left": null,
       "margin": null,
       "max_height": null,
       "max_width": null,
       "min_height": null,
       "min_width": null,
       "object_fit": null,
       "object_position": null,
       "order": null,
       "overflow": null,
       "overflow_x": null,
       "overflow_y": null,
       "padding": null,
       "right": null,
       "top": null,
       "visibility": null,
       "width": null
      }
     },
     "1f2eee4465d942af9cc4105e5e5b7311": {
      "model_module": "@jupyter-widgets/base",
      "model_module_version": "1.2.0",
      "model_name": "LayoutModel",
      "state": {
       "_model_module": "@jupyter-widgets/base",
       "_model_module_version": "1.2.0",
       "_model_name": "LayoutModel",
       "_view_count": null,
       "_view_module": "@jupyter-widgets/base",
       "_view_module_version": "1.2.0",
       "_view_name": "LayoutView",
       "align_content": null,
       "align_items": null,
       "align_self": null,
       "border": null,
       "bottom": null,
       "display": null,
       "flex": null,
       "flex_flow": null,
       "grid_area": null,
       "grid_auto_columns": null,
       "grid_auto_flow": null,
       "grid_auto_rows": null,
       "grid_column": null,
       "grid_gap": null,
       "grid_row": null,
       "grid_template_areas": null,
       "grid_template_columns": null,
       "grid_template_rows": null,
       "height": null,
       "justify_content": null,
       "justify_items": null,
       "left": null,
       "margin": null,
       "max_height": null,
       "max_width": null,
       "min_height": null,
       "min_width": null,
       "object_fit": null,
       "object_position": null,
       "order": null,
       "overflow": null,
       "overflow_x": null,
       "overflow_y": null,
       "padding": null,
       "right": null,
       "top": null,
       "visibility": null,
       "width": null
      }
     },
     "21111ad18c824c908ee028540b2f671d": {
      "model_module": "@jupyter-widgets/controls",
      "model_module_version": "1.5.0",
      "model_name": "HTMLModel",
      "state": {
       "_dom_classes": [],
       "_model_module": "@jupyter-widgets/controls",
       "_model_module_version": "1.5.0",
       "_model_name": "HTMLModel",
       "_view_count": null,
       "_view_module": "@jupyter-widgets/controls",
       "_view_module_version": "1.5.0",
       "_view_name": "HTMLView",
       "description": "",
       "description_tooltip": null,
       "layout": "IPY_MODEL_9d9a7123a2b34151ba987aa66b1e2448",
       "placeholder": "​",
       "style": "IPY_MODEL_c536607355794179bd1817b462719a76",
       "value": " 570/570 [00:00&lt;00:00, 17.8kB/s]"
      }
     },
     "21be63ad66654a5692a124811ae76551": {
      "model_module": "@jupyter-widgets/controls",
      "model_module_version": "1.5.0",
      "model_name": "HBoxModel",
      "state": {
       "_dom_classes": [],
       "_model_module": "@jupyter-widgets/controls",
       "_model_module_version": "1.5.0",
       "_model_name": "HBoxModel",
       "_view_count": null,
       "_view_module": "@jupyter-widgets/controls",
       "_view_module_version": "1.5.0",
       "_view_name": "HBoxView",
       "box_style": "",
       "children": [
        "IPY_MODEL_3aaad5f2f45c4fdd8bd3a18856139997",
        "IPY_MODEL_e04767b6194c476b830078c45931d07a",
        "IPY_MODEL_21111ad18c824c908ee028540b2f671d"
       ],
       "layout": "IPY_MODEL_b737f4ec6bda42f7a8aa7816dd975f90"
      }
     },
     "24d96bb40e1c413b9bcc5139ab810c8e": {
      "model_module": "@jupyter-widgets/controls",
      "model_module_version": "1.5.0",
      "model_name": "DescriptionStyleModel",
      "state": {
       "_model_module": "@jupyter-widgets/controls",
       "_model_module_version": "1.5.0",
       "_model_name": "DescriptionStyleModel",
       "_view_count": null,
       "_view_module": "@jupyter-widgets/base",
       "_view_module_version": "1.2.0",
       "_view_name": "StyleView",
       "description_width": ""
      }
     },
     "336b9e0d18d247cb90df5b64cadcf9fa": {
      "model_module": "@jupyter-widgets/controls",
      "model_module_version": "1.5.0",
      "model_name": "FloatProgressModel",
      "state": {
       "_dom_classes": [],
       "_model_module": "@jupyter-widgets/controls",
       "_model_module_version": "1.5.0",
       "_model_name": "FloatProgressModel",
       "_view_count": null,
       "_view_module": "@jupyter-widgets/controls",
       "_view_module_version": "1.5.0",
       "_view_name": "ProgressView",
       "bar_style": "success",
       "description": "",
       "description_tooltip": null,
       "layout": "IPY_MODEL_4bea61fdd8e840099f16bc0d3e8a9f91",
       "max": 435779157.0,
       "min": 0.0,
       "orientation": "horizontal",
       "style": "IPY_MODEL_919f94625c8340f89df06d461e6442e8",
       "value": 435779157.0
      }
     },
     "36602df53aea43268659044ad5d0d853": {
      "model_module": "@jupyter-widgets/controls",
      "model_module_version": "1.5.0",
      "model_name": "DescriptionStyleModel",
      "state": {
       "_model_module": "@jupyter-widgets/controls",
       "_model_module_version": "1.5.0",
       "_model_name": "DescriptionStyleModel",
       "_view_count": null,
       "_view_module": "@jupyter-widgets/base",
       "_view_module_version": "1.2.0",
       "_view_name": "StyleView",
       "description_width": ""
      }
     },
     "397af9c98b6e4484a2d8e8e20c1eef6b": {
      "model_module": "@jupyter-widgets/controls",
      "model_module_version": "1.5.0",
      "model_name": "HBoxModel",
      "state": {
       "_dom_classes": [],
       "_model_module": "@jupyter-widgets/controls",
       "_model_module_version": "1.5.0",
       "_model_name": "HBoxModel",
       "_view_count": null,
       "_view_module": "@jupyter-widgets/controls",
       "_view_module_version": "1.5.0",
       "_view_name": "HBoxView",
       "box_style": "",
       "children": [
        "IPY_MODEL_838055c874724cc8a8a8ebb337545bd4",
        "IPY_MODEL_ce46e4dc66ed47febd60fda965f7d3d5",
        "IPY_MODEL_fc8b85134d68490b83b091866f474fc2"
       ],
       "layout": "IPY_MODEL_1b61565720a04b12bfd9a1a4c9fed639"
      }
     },
     "3aaad5f2f45c4fdd8bd3a18856139997": {
      "model_module": "@jupyter-widgets/controls",
      "model_module_version": "1.5.0",
      "model_name": "HTMLModel",
      "state": {
       "_dom_classes": [],
       "_model_module": "@jupyter-widgets/controls",
       "_model_module_version": "1.5.0",
       "_model_name": "HTMLModel",
       "_view_count": null,
       "_view_module": "@jupyter-widgets/controls",
       "_view_module_version": "1.5.0",
       "_view_name": "HTMLView",
       "description": "",
       "description_tooltip": null,
       "layout": "IPY_MODEL_8c5fb439e6d94c3c8a07abb88a65191b",
       "placeholder": "​",
       "style": "IPY_MODEL_d03f47e47ac348da9d5805d9ef52edf5",
       "value": "Downloading: 100%"
      }
     },
     "4481f24f806d4f1786f15d815b22b5da": {
      "model_module": "@jupyter-widgets/controls",
      "model_module_version": "1.5.0",
      "model_name": "DescriptionStyleModel",
      "state": {
       "_model_module": "@jupyter-widgets/controls",
       "_model_module_version": "1.5.0",
       "_model_name": "DescriptionStyleModel",
       "_view_count": null,
       "_view_module": "@jupyter-widgets/base",
       "_view_module_version": "1.2.0",
       "_view_name": "StyleView",
       "description_width": ""
      }
     },
     "4bea61fdd8e840099f16bc0d3e8a9f91": {
      "model_module": "@jupyter-widgets/base",
      "model_module_version": "1.2.0",
      "model_name": "LayoutModel",
      "state": {
       "_model_module": "@jupyter-widgets/base",
       "_model_module_version": "1.2.0",
       "_model_name": "LayoutModel",
       "_view_count": null,
       "_view_module": "@jupyter-widgets/base",
       "_view_module_version": "1.2.0",
       "_view_name": "LayoutView",
       "align_content": null,
       "align_items": null,
       "align_self": null,
       "border": null,
       "bottom": null,
       "display": null,
       "flex": null,
       "flex_flow": null,
       "grid_area": null,
       "grid_auto_columns": null,
       "grid_auto_flow": null,
       "grid_auto_rows": null,
       "grid_column": null,
       "grid_gap": null,
       "grid_row": null,
       "grid_template_areas": null,
       "grid_template_columns": null,
       "grid_template_rows": null,
       "height": null,
       "justify_content": null,
       "justify_items": null,
       "left": null,
       "margin": null,
       "max_height": null,
       "max_width": null,
       "min_height": null,
       "min_width": null,
       "object_fit": null,
       "object_position": null,
       "order": null,
       "overflow": null,
       "overflow_x": null,
       "overflow_y": null,
       "padding": null,
       "right": null,
       "top": null,
       "visibility": null,
       "width": null
      }
     },
     "4f1fa7809c1743d7ac26fb1899f08ce7": {
      "model_module": "@jupyter-widgets/base",
      "model_module_version": "1.2.0",
      "model_name": "LayoutModel",
      "state": {
       "_model_module": "@jupyter-widgets/base",
       "_model_module_version": "1.2.0",
       "_model_name": "LayoutModel",
       "_view_count": null,
       "_view_module": "@jupyter-widgets/base",
       "_view_module_version": "1.2.0",
       "_view_name": "LayoutView",
       "align_content": null,
       "align_items": null,
       "align_self": null,
       "border": null,
       "bottom": null,
       "display": null,
       "flex": null,
       "flex_flow": null,
       "grid_area": null,
       "grid_auto_columns": null,
       "grid_auto_flow": null,
       "grid_auto_rows": null,
       "grid_column": null,
       "grid_gap": null,
       "grid_row": null,
       "grid_template_areas": null,
       "grid_template_columns": null,
       "grid_template_rows": null,
       "height": null,
       "justify_content": null,
       "justify_items": null,
       "left": null,
       "margin": null,
       "max_height": null,
       "max_width": null,
       "min_height": null,
       "min_width": null,
       "object_fit": null,
       "object_position": null,
       "order": null,
       "overflow": null,
       "overflow_x": null,
       "overflow_y": null,
       "padding": null,
       "right": null,
       "top": null,
       "visibility": null,
       "width": null
      }
     },
     "50544264b4724b80bb9945faf4ae0abc": {
      "model_module": "@jupyter-widgets/controls",
      "model_module_version": "1.5.0",
      "model_name": "DescriptionStyleModel",
      "state": {
       "_model_module": "@jupyter-widgets/controls",
       "_model_module_version": "1.5.0",
       "_model_name": "DescriptionStyleModel",
       "_view_count": null,
       "_view_module": "@jupyter-widgets/base",
       "_view_module_version": "1.2.0",
       "_view_name": "StyleView",
       "description_width": ""
      }
     },
     "5a31035db8cc494eade81103f4ddbd30": {
      "model_module": "@jupyter-widgets/controls",
      "model_module_version": "1.5.0",
      "model_name": "HTMLModel",
      "state": {
       "_dom_classes": [],
       "_model_module": "@jupyter-widgets/controls",
       "_model_module_version": "1.5.0",
       "_model_name": "HTMLModel",
       "_view_count": null,
       "_view_module": "@jupyter-widgets/controls",
       "_view_module_version": "1.5.0",
       "_view_name": "HTMLView",
       "description": "",
       "description_tooltip": null,
       "layout": "IPY_MODEL_d6f9611caa00433f81a35df59c2c94b0",
       "placeholder": "​",
       "style": "IPY_MODEL_9b7e2f176e5e46a5be67cc010ecf9547",
       "value": " 416M/416M [00:16&lt;00:00, 31.6MB/s]"
      }
     },
     "6a9da468228941d3b1ff04f8da7931cd": {
      "model_module": "@jupyter-widgets/controls",
      "model_module_version": "1.5.0",
      "model_name": "HBoxModel",
      "state": {
       "_dom_classes": [],
       "_model_module": "@jupyter-widgets/controls",
       "_model_module_version": "1.5.0",
       "_model_name": "HBoxModel",
       "_view_count": null,
       "_view_module": "@jupyter-widgets/controls",
       "_view_module_version": "1.5.0",
       "_view_name": "HBoxView",
       "box_style": "",
       "children": [
        "IPY_MODEL_f0690fd2b76a41cfbbe9b2cee4a59c72",
        "IPY_MODEL_336b9e0d18d247cb90df5b64cadcf9fa",
        "IPY_MODEL_5a31035db8cc494eade81103f4ddbd30"
       ],
       "layout": "IPY_MODEL_1f2eee4465d942af9cc4105e5e5b7311"
      }
     },
     "6e3d0aeb27674989ae14344bf6a043d2": {
      "model_module": "@jupyter-widgets/controls",
      "model_module_version": "1.5.0",
      "model_name": "ProgressStyleModel",
      "state": {
       "_model_module": "@jupyter-widgets/controls",
       "_model_module_version": "1.5.0",
       "_model_name": "ProgressStyleModel",
       "_view_count": null,
       "_view_module": "@jupyter-widgets/base",
       "_view_module_version": "1.2.0",
       "_view_name": "StyleView",
       "bar_color": null,
       "description_width": ""
      }
     },
     "75dc003831b84ce08a8d6ec0e35b1018": {
      "model_module": "@jupyter-widgets/controls",
      "model_module_version": "1.5.0",
      "model_name": "FloatProgressModel",
      "state": {
       "_dom_classes": [],
       "_model_module": "@jupyter-widgets/controls",
       "_model_module_version": "1.5.0",
       "_model_name": "FloatProgressModel",
       "_view_count": null,
       "_view_module": "@jupyter-widgets/controls",
       "_view_module_version": "1.5.0",
       "_view_name": "ProgressView",
       "bar_style": "success",
       "description": "",
       "description_tooltip": null,
       "layout": "IPY_MODEL_7c3a8ed0ce1c49cf8ea435fc1aeacba5",
       "max": 29.0,
       "min": 0.0,
       "orientation": "horizontal",
       "style": "IPY_MODEL_f69e5ab8c415401990d9dcc7bace3ce3",
       "value": 29.0
      }
     },
     "7c3a8ed0ce1c49cf8ea435fc1aeacba5": {
      "model_module": "@jupyter-widgets/base",
      "model_module_version": "1.2.0",
      "model_name": "LayoutModel",
      "state": {
       "_model_module": "@jupyter-widgets/base",
       "_model_module_version": "1.2.0",
       "_model_name": "LayoutModel",
       "_view_count": null,
       "_view_module": "@jupyter-widgets/base",
       "_view_module_version": "1.2.0",
       "_view_name": "LayoutView",
       "align_content": null,
       "align_items": null,
       "align_self": null,
       "border": null,
       "bottom": null,
       "display": null,
       "flex": null,
       "flex_flow": null,
       "grid_area": null,
       "grid_auto_columns": null,
       "grid_auto_flow": null,
       "grid_auto_rows": null,
       "grid_column": null,
       "grid_gap": null,
       "grid_row": null,
       "grid_template_areas": null,
       "grid_template_columns": null,
       "grid_template_rows": null,
       "height": null,
       "justify_content": null,
       "justify_items": null,
       "left": null,
       "margin": null,
       "max_height": null,
       "max_width": null,
       "min_height": null,
       "min_width": null,
       "object_fit": null,
       "object_position": null,
       "order": null,
       "overflow": null,
       "overflow_x": null,
       "overflow_y": null,
       "padding": null,
       "right": null,
       "top": null,
       "visibility": null,
       "width": null
      }
     },
     "838055c874724cc8a8a8ebb337545bd4": {
      "model_module": "@jupyter-widgets/controls",
      "model_module_version": "1.5.0",
      "model_name": "HTMLModel",
      "state": {
       "_dom_classes": [],
       "_model_module": "@jupyter-widgets/controls",
       "_model_module_version": "1.5.0",
       "_model_name": "HTMLModel",
       "_view_count": null,
       "_view_module": "@jupyter-widgets/controls",
       "_view_module_version": "1.5.0",
       "_view_name": "HTMLView",
       "description": "",
       "description_tooltip": null,
       "layout": "IPY_MODEL_db113940d4304314870101a6db6a350a",
       "placeholder": "​",
       "style": "IPY_MODEL_36602df53aea43268659044ad5d0d853",
       "value": "Downloading: 100%"
      }
     },
     "8c5fb439e6d94c3c8a07abb88a65191b": {
      "model_module": "@jupyter-widgets/base",
      "model_module_version": "1.2.0",
      "model_name": "LayoutModel",
      "state": {
       "_model_module": "@jupyter-widgets/base",
       "_model_module_version": "1.2.0",
       "_model_name": "LayoutModel",
       "_view_count": null,
       "_view_module": "@jupyter-widgets/base",
       "_view_module_version": "1.2.0",
       "_view_name": "LayoutView",
       "align_content": null,
       "align_items": null,
       "align_self": null,
       "border": null,
       "bottom": null,
       "display": null,
       "flex": null,
       "flex_flow": null,
       "grid_area": null,
       "grid_auto_columns": null,
       "grid_auto_flow": null,
       "grid_auto_rows": null,
       "grid_column": null,
       "grid_gap": null,
       "grid_row": null,
       "grid_template_areas": null,
       "grid_template_columns": null,
       "grid_template_rows": null,
       "height": null,
       "justify_content": null,
       "justify_items": null,
       "left": null,
       "margin": null,
       "max_height": null,
       "max_width": null,
       "min_height": null,
       "min_width": null,
       "object_fit": null,
       "object_position": null,
       "order": null,
       "overflow": null,
       "overflow_x": null,
       "overflow_y": null,
       "padding": null,
       "right": null,
       "top": null,
       "visibility": null,
       "width": null
      }
     },
     "8cfd2f1b7af248faa4975c9b84dcbb1f": {
      "model_module": "@jupyter-widgets/base",
      "model_module_version": "1.2.0",
      "model_name": "LayoutModel",
      "state": {
       "_model_module": "@jupyter-widgets/base",
       "_model_module_version": "1.2.0",
       "_model_name": "LayoutModel",
       "_view_count": null,
       "_view_module": "@jupyter-widgets/base",
       "_view_module_version": "1.2.0",
       "_view_name": "LayoutView",
       "align_content": null,
       "align_items": null,
       "align_self": null,
       "border": null,
       "bottom": null,
       "display": null,
       "flex": null,
       "flex_flow": null,
       "grid_area": null,
       "grid_auto_columns": null,
       "grid_auto_flow": null,
       "grid_auto_rows": null,
       "grid_column": null,
       "grid_gap": null,
       "grid_row": null,
       "grid_template_areas": null,
       "grid_template_columns": null,
       "grid_template_rows": null,
       "height": null,
       "justify_content": null,
       "justify_items": null,
       "left": null,
       "margin": null,
       "max_height": null,
       "max_width": null,
       "min_height": null,
       "min_width": null,
       "object_fit": null,
       "object_position": null,
       "order": null,
       "overflow": null,
       "overflow_x": null,
       "overflow_y": null,
       "padding": null,
       "right": null,
       "top": null,
       "visibility": null,
       "width": null
      }
     },
     "8dfe3ead030e427abe97a623a6db56a5": {
      "model_module": "@jupyter-widgets/base",
      "model_module_version": "1.2.0",
      "model_name": "LayoutModel",
      "state": {
       "_model_module": "@jupyter-widgets/base",
       "_model_module_version": "1.2.0",
       "_model_name": "LayoutModel",
       "_view_count": null,
       "_view_module": "@jupyter-widgets/base",
       "_view_module_version": "1.2.0",
       "_view_name": "LayoutView",
       "align_content": null,
       "align_items": null,
       "align_self": null,
       "border": null,
       "bottom": null,
       "display": null,
       "flex": null,
       "flex_flow": null,
       "grid_area": null,
       "grid_auto_columns": null,
       "grid_auto_flow": null,
       "grid_auto_rows": null,
       "grid_column": null,
       "grid_gap": null,
       "grid_row": null,
       "grid_template_areas": null,
       "grid_template_columns": null,
       "grid_template_rows": null,
       "height": null,
       "justify_content": null,
       "justify_items": null,
       "left": null,
       "margin": null,
       "max_height": null,
       "max_width": null,
       "min_height": null,
       "min_width": null,
       "object_fit": null,
       "object_position": null,
       "order": null,
       "overflow": null,
       "overflow_x": null,
       "overflow_y": null,
       "padding": null,
       "right": null,
       "top": null,
       "visibility": null,
       "width": null
      }
     },
     "919f94625c8340f89df06d461e6442e8": {
      "model_module": "@jupyter-widgets/controls",
      "model_module_version": "1.5.0",
      "model_name": "ProgressStyleModel",
      "state": {
       "_model_module": "@jupyter-widgets/controls",
       "_model_module_version": "1.5.0",
       "_model_name": "ProgressStyleModel",
       "_view_count": null,
       "_view_module": "@jupyter-widgets/base",
       "_view_module_version": "1.2.0",
       "_view_name": "StyleView",
       "bar_color": null,
       "description_width": ""
      }
     },
     "921c7ff5e7a647d890cc1aab4e2a3386": {
      "model_module": "@jupyter-widgets/base",
      "model_module_version": "1.2.0",
      "model_name": "LayoutModel",
      "state": {
       "_model_module": "@jupyter-widgets/base",
       "_model_module_version": "1.2.0",
       "_model_name": "LayoutModel",
       "_view_count": null,
       "_view_module": "@jupyter-widgets/base",
       "_view_module_version": "1.2.0",
       "_view_name": "LayoutView",
       "align_content": null,
       "align_items": null,
       "align_self": null,
       "border": null,
       "bottom": null,
       "display": null,
       "flex": null,
       "flex_flow": null,
       "grid_area": null,
       "grid_auto_columns": null,
       "grid_auto_flow": null,
       "grid_auto_rows": null,
       "grid_column": null,
       "grid_gap": null,
       "grid_row": null,
       "grid_template_areas": null,
       "grid_template_columns": null,
       "grid_template_rows": null,
       "height": null,
       "justify_content": null,
       "justify_items": null,
       "left": null,
       "margin": null,
       "max_height": null,
       "max_width": null,
       "min_height": null,
       "min_width": null,
       "object_fit": null,
       "object_position": null,
       "order": null,
       "overflow": null,
       "overflow_x": null,
       "overflow_y": null,
       "padding": null,
       "right": null,
       "top": null,
       "visibility": null,
       "width": null
      }
     },
     "978c74ce4e5b4ac48219399cce7d4feb": {
      "model_module": "@jupyter-widgets/controls",
      "model_module_version": "1.5.0",
      "model_name": "HBoxModel",
      "state": {
       "_dom_classes": [],
       "_model_module": "@jupyter-widgets/controls",
       "_model_module_version": "1.5.0",
       "_model_name": "HBoxModel",
       "_view_count": null,
       "_view_module": "@jupyter-widgets/controls",
       "_view_module_version": "1.5.0",
       "_view_name": "HBoxView",
       "box_style": "",
       "children": [
        "IPY_MODEL_11fb32b8c3404382841334533742de74",
        "IPY_MODEL_75dc003831b84ce08a8d6ec0e35b1018",
        "IPY_MODEL_e405526451654e88bc188f5252396666"
       ],
       "layout": "IPY_MODEL_4f1fa7809c1743d7ac26fb1899f08ce7"
      }
     },
     "99a8297a19ce4d1fa68f514f577462bf": {
      "model_module": "@jupyter-widgets/base",
      "model_module_version": "1.2.0",
      "model_name": "LayoutModel",
      "state": {
       "_model_module": "@jupyter-widgets/base",
       "_model_module_version": "1.2.0",
       "_model_name": "LayoutModel",
       "_view_count": null,
       "_view_module": "@jupyter-widgets/base",
       "_view_module_version": "1.2.0",
       "_view_name": "LayoutView",
       "align_content": null,
       "align_items": null,
       "align_self": null,
       "border": null,
       "bottom": null,
       "display": null,
       "flex": null,
       "flex_flow": null,
       "grid_area": null,
       "grid_auto_columns": null,
       "grid_auto_flow": null,
       "grid_auto_rows": null,
       "grid_column": null,
       "grid_gap": null,
       "grid_row": null,
       "grid_template_areas": null,
       "grid_template_columns": null,
       "grid_template_rows": null,
       "height": null,
       "justify_content": null,
       "justify_items": null,
       "left": null,
       "margin": null,
       "max_height": null,
       "max_width": null,
       "min_height": null,
       "min_width": null,
       "object_fit": null,
       "object_position": null,
       "order": null,
       "overflow": null,
       "overflow_x": null,
       "overflow_y": null,
       "padding": null,
       "right": null,
       "top": null,
       "visibility": null,
       "width": null
      }
     },
     "9b7e2f176e5e46a5be67cc010ecf9547": {
      "model_module": "@jupyter-widgets/controls",
      "model_module_version": "1.5.0",
      "model_name": "DescriptionStyleModel",
      "state": {
       "_model_module": "@jupyter-widgets/controls",
       "_model_module_version": "1.5.0",
       "_model_name": "DescriptionStyleModel",
       "_view_count": null,
       "_view_module": "@jupyter-widgets/base",
       "_view_module_version": "1.2.0",
       "_view_name": "StyleView",
       "description_width": ""
      }
     },
     "9d9a7123a2b34151ba987aa66b1e2448": {
      "model_module": "@jupyter-widgets/base",
      "model_module_version": "1.2.0",
      "model_name": "LayoutModel",
      "state": {
       "_model_module": "@jupyter-widgets/base",
       "_model_module_version": "1.2.0",
       "_model_name": "LayoutModel",
       "_view_count": null,
       "_view_module": "@jupyter-widgets/base",
       "_view_module_version": "1.2.0",
       "_view_name": "LayoutView",
       "align_content": null,
       "align_items": null,
       "align_self": null,
       "border": null,
       "bottom": null,
       "display": null,
       "flex": null,
       "flex_flow": null,
       "grid_area": null,
       "grid_auto_columns": null,
       "grid_auto_flow": null,
       "grid_auto_rows": null,
       "grid_column": null,
       "grid_gap": null,
       "grid_row": null,
       "grid_template_areas": null,
       "grid_template_columns": null,
       "grid_template_rows": null,
       "height": null,
       "justify_content": null,
       "justify_items": null,
       "left": null,
       "margin": null,
       "max_height": null,
       "max_width": null,
       "min_height": null,
       "min_width": null,
       "object_fit": null,
       "object_position": null,
       "order": null,
       "overflow": null,
       "overflow_x": null,
       "overflow_y": null,
       "padding": null,
       "right": null,
       "top": null,
       "visibility": null,
       "width": null
      }
     },
     "b737f4ec6bda42f7a8aa7816dd975f90": {
      "model_module": "@jupyter-widgets/base",
      "model_module_version": "1.2.0",
      "model_name": "LayoutModel",
      "state": {
       "_model_module": "@jupyter-widgets/base",
       "_model_module_version": "1.2.0",
       "_model_name": "LayoutModel",
       "_view_count": null,
       "_view_module": "@jupyter-widgets/base",
       "_view_module_version": "1.2.0",
       "_view_name": "LayoutView",
       "align_content": null,
       "align_items": null,
       "align_self": null,
       "border": null,
       "bottom": null,
       "display": null,
       "flex": null,
       "flex_flow": null,
       "grid_area": null,
       "grid_auto_columns": null,
       "grid_auto_flow": null,
       "grid_auto_rows": null,
       "grid_column": null,
       "grid_gap": null,
       "grid_row": null,
       "grid_template_areas": null,
       "grid_template_columns": null,
       "grid_template_rows": null,
       "height": null,
       "justify_content": null,
       "justify_items": null,
       "left": null,
       "margin": null,
       "max_height": null,
       "max_width": null,
       "min_height": null,
       "min_width": null,
       "object_fit": null,
       "object_position": null,
       "order": null,
       "overflow": null,
       "overflow_x": null,
       "overflow_y": null,
       "padding": null,
       "right": null,
       "top": null,
       "visibility": null,
       "width": null
      }
     },
     "c536607355794179bd1817b462719a76": {
      "model_module": "@jupyter-widgets/controls",
      "model_module_version": "1.5.0",
      "model_name": "DescriptionStyleModel",
      "state": {
       "_model_module": "@jupyter-widgets/controls",
       "_model_module_version": "1.5.0",
       "_model_name": "DescriptionStyleModel",
       "_view_count": null,
       "_view_module": "@jupyter-widgets/base",
       "_view_module_version": "1.2.0",
       "_view_name": "StyleView",
       "description_width": ""
      }
     },
     "cc3417da62b9433b80100bb3c3933be0": {
      "model_module": "@jupyter-widgets/base",
      "model_module_version": "1.2.0",
      "model_name": "LayoutModel",
      "state": {
       "_model_module": "@jupyter-widgets/base",
       "_model_module_version": "1.2.0",
       "_model_name": "LayoutModel",
       "_view_count": null,
       "_view_module": "@jupyter-widgets/base",
       "_view_module_version": "1.2.0",
       "_view_name": "LayoutView",
       "align_content": null,
       "align_items": null,
       "align_self": null,
       "border": null,
       "bottom": null,
       "display": null,
       "flex": null,
       "flex_flow": null,
       "grid_area": null,
       "grid_auto_columns": null,
       "grid_auto_flow": null,
       "grid_auto_rows": null,
       "grid_column": null,
       "grid_gap": null,
       "grid_row": null,
       "grid_template_areas": null,
       "grid_template_columns": null,
       "grid_template_rows": null,
       "height": null,
       "justify_content": null,
       "justify_items": null,
       "left": null,
       "margin": null,
       "max_height": null,
       "max_width": null,
       "min_height": null,
       "min_width": null,
       "object_fit": null,
       "object_position": null,
       "order": null,
       "overflow": null,
       "overflow_x": null,
       "overflow_y": null,
       "padding": null,
       "right": null,
       "top": null,
       "visibility": null,
       "width": null
      }
     },
     "ce46e4dc66ed47febd60fda965f7d3d5": {
      "model_module": "@jupyter-widgets/controls",
      "model_module_version": "1.5.0",
      "model_name": "FloatProgressModel",
      "state": {
       "_dom_classes": [],
       "_model_module": "@jupyter-widgets/controls",
       "_model_module_version": "1.5.0",
       "_model_name": "FloatProgressModel",
       "_view_count": null,
       "_view_module": "@jupyter-widgets/controls",
       "_view_module_version": "1.5.0",
       "_view_name": "ProgressView",
       "bar_style": "success",
       "description": "",
       "description_tooltip": null,
       "layout": "IPY_MODEL_99a8297a19ce4d1fa68f514f577462bf",
       "max": 213450.0,
       "min": 0.0,
       "orientation": "horizontal",
       "style": "IPY_MODEL_103fc5bcc36246a4a25ce40293a5acf5",
       "value": 213450.0
      }
     },
     "cf09b19a46f745c68f295d6c6fe48db3": {
      "model_module": "@jupyter-widgets/controls",
      "model_module_version": "1.5.0",
      "model_name": "DescriptionStyleModel",
      "state": {
       "_model_module": "@jupyter-widgets/controls",
       "_model_module_version": "1.5.0",
       "_model_name": "DescriptionStyleModel",
       "_view_count": null,
       "_view_module": "@jupyter-widgets/base",
       "_view_module_version": "1.2.0",
       "_view_name": "StyleView",
       "description_width": ""
      }
     },
     "d03f47e47ac348da9d5805d9ef52edf5": {
      "model_module": "@jupyter-widgets/controls",
      "model_module_version": "1.5.0",
      "model_name": "DescriptionStyleModel",
      "state": {
       "_model_module": "@jupyter-widgets/controls",
       "_model_module_version": "1.5.0",
       "_model_name": "DescriptionStyleModel",
       "_view_count": null,
       "_view_module": "@jupyter-widgets/base",
       "_view_module_version": "1.2.0",
       "_view_name": "StyleView",
       "description_width": ""
      }
     },
     "d6f9611caa00433f81a35df59c2c94b0": {
      "model_module": "@jupyter-widgets/base",
      "model_module_version": "1.2.0",
      "model_name": "LayoutModel",
      "state": {
       "_model_module": "@jupyter-widgets/base",
       "_model_module_version": "1.2.0",
       "_model_name": "LayoutModel",
       "_view_count": null,
       "_view_module": "@jupyter-widgets/base",
       "_view_module_version": "1.2.0",
       "_view_name": "LayoutView",
       "align_content": null,
       "align_items": null,
       "align_self": null,
       "border": null,
       "bottom": null,
       "display": null,
       "flex": null,
       "flex_flow": null,
       "grid_area": null,
       "grid_auto_columns": null,
       "grid_auto_flow": null,
       "grid_auto_rows": null,
       "grid_column": null,
       "grid_gap": null,
       "grid_row": null,
       "grid_template_areas": null,
       "grid_template_columns": null,
       "grid_template_rows": null,
       "height": null,
       "justify_content": null,
       "justify_items": null,
       "left": null,
       "margin": null,
       "max_height": null,
       "max_width": null,
       "min_height": null,
       "min_width": null,
       "object_fit": null,
       "object_position": null,
       "order": null,
       "overflow": null,
       "overflow_x": null,
       "overflow_y": null,
       "padding": null,
       "right": null,
       "top": null,
       "visibility": null,
       "width": null
      }
     },
     "db113940d4304314870101a6db6a350a": {
      "model_module": "@jupyter-widgets/base",
      "model_module_version": "1.2.0",
      "model_name": "LayoutModel",
      "state": {
       "_model_module": "@jupyter-widgets/base",
       "_model_module_version": "1.2.0",
       "_model_name": "LayoutModel",
       "_view_count": null,
       "_view_module": "@jupyter-widgets/base",
       "_view_module_version": "1.2.0",
       "_view_name": "LayoutView",
       "align_content": null,
       "align_items": null,
       "align_self": null,
       "border": null,
       "bottom": null,
       "display": null,
       "flex": null,
       "flex_flow": null,
       "grid_area": null,
       "grid_auto_columns": null,
       "grid_auto_flow": null,
       "grid_auto_rows": null,
       "grid_column": null,
       "grid_gap": null,
       "grid_row": null,
       "grid_template_areas": null,
       "grid_template_columns": null,
       "grid_template_rows": null,
       "height": null,
       "justify_content": null,
       "justify_items": null,
       "left": null,
       "margin": null,
       "max_height": null,
       "max_width": null,
       "min_height": null,
       "min_width": null,
       "object_fit": null,
       "object_position": null,
       "order": null,
       "overflow": null,
       "overflow_x": null,
       "overflow_y": null,
       "padding": null,
       "right": null,
       "top": null,
       "visibility": null,
       "width": null
      }
     },
     "e04767b6194c476b830078c45931d07a": {
      "model_module": "@jupyter-widgets/controls",
      "model_module_version": "1.5.0",
      "model_name": "FloatProgressModel",
      "state": {
       "_dom_classes": [],
       "_model_module": "@jupyter-widgets/controls",
       "_model_module_version": "1.5.0",
       "_model_name": "FloatProgressModel",
       "_view_count": null,
       "_view_module": "@jupyter-widgets/controls",
       "_view_module_version": "1.5.0",
       "_view_name": "ProgressView",
       "bar_style": "success",
       "description": "",
       "description_tooltip": null,
       "layout": "IPY_MODEL_8dfe3ead030e427abe97a623a6db56a5",
       "max": 570.0,
       "min": 0.0,
       "orientation": "horizontal",
       "style": "IPY_MODEL_6e3d0aeb27674989ae14344bf6a043d2",
       "value": 570.0
      }
     },
     "e405526451654e88bc188f5252396666": {
      "model_module": "@jupyter-widgets/controls",
      "model_module_version": "1.5.0",
      "model_name": "HTMLModel",
      "state": {
       "_dom_classes": [],
       "_model_module": "@jupyter-widgets/controls",
       "_model_module_version": "1.5.0",
       "_model_name": "HTMLModel",
       "_view_count": null,
       "_view_module": "@jupyter-widgets/controls",
       "_view_module_version": "1.5.0",
       "_view_name": "HTMLView",
       "description": "",
       "description_tooltip": null,
       "layout": "IPY_MODEL_cc3417da62b9433b80100bb3c3933be0",
       "placeholder": "​",
       "style": "IPY_MODEL_24d96bb40e1c413b9bcc5139ab810c8e",
       "value": " 29.0/29.0 [00:00&lt;00:00, 997B/s]"
      }
     },
     "ee2fbcc35bc448318e7ca2be560d228f": {
      "model_module": "@jupyter-widgets/base",
      "model_module_version": "1.2.0",
      "model_name": "LayoutModel",
      "state": {
       "_model_module": "@jupyter-widgets/base",
       "_model_module_version": "1.2.0",
       "_model_name": "LayoutModel",
       "_view_count": null,
       "_view_module": "@jupyter-widgets/base",
       "_view_module_version": "1.2.0",
       "_view_name": "LayoutView",
       "align_content": null,
       "align_items": null,
       "align_self": null,
       "border": null,
       "bottom": null,
       "display": null,
       "flex": null,
       "flex_flow": null,
       "grid_area": null,
       "grid_auto_columns": null,
       "grid_auto_flow": null,
       "grid_auto_rows": null,
       "grid_column": null,
       "grid_gap": null,
       "grid_row": null,
       "grid_template_areas": null,
       "grid_template_columns": null,
       "grid_template_rows": null,
       "height": null,
       "justify_content": null,
       "justify_items": null,
       "left": null,
       "margin": null,
       "max_height": null,
       "max_width": null,
       "min_height": null,
       "min_width": null,
       "object_fit": null,
       "object_position": null,
       "order": null,
       "overflow": null,
       "overflow_x": null,
       "overflow_y": null,
       "padding": null,
       "right": null,
       "top": null,
       "visibility": null,
       "width": null
      }
     },
     "f0690fd2b76a41cfbbe9b2cee4a59c72": {
      "model_module": "@jupyter-widgets/controls",
      "model_module_version": "1.5.0",
      "model_name": "HTMLModel",
      "state": {
       "_dom_classes": [],
       "_model_module": "@jupyter-widgets/controls",
       "_model_module_version": "1.5.0",
       "_model_name": "HTMLModel",
       "_view_count": null,
       "_view_module": "@jupyter-widgets/controls",
       "_view_module_version": "1.5.0",
       "_view_name": "HTMLView",
       "description": "",
       "description_tooltip": null,
       "layout": "IPY_MODEL_ee2fbcc35bc448318e7ca2be560d228f",
       "placeholder": "​",
       "style": "IPY_MODEL_4481f24f806d4f1786f15d815b22b5da",
       "value": "Downloading: 100%"
      }
     },
     "f69e5ab8c415401990d9dcc7bace3ce3": {
      "model_module": "@jupyter-widgets/controls",
      "model_module_version": "1.5.0",
      "model_name": "ProgressStyleModel",
      "state": {
       "_model_module": "@jupyter-widgets/controls",
       "_model_module_version": "1.5.0",
       "_model_name": "ProgressStyleModel",
       "_view_count": null,
       "_view_module": "@jupyter-widgets/base",
       "_view_module_version": "1.2.0",
       "_view_name": "StyleView",
       "bar_color": null,
       "description_width": ""
      }
     },
     "fc8b85134d68490b83b091866f474fc2": {
      "model_module": "@jupyter-widgets/controls",
      "model_module_version": "1.5.0",
      "model_name": "HTMLModel",
      "state": {
       "_dom_classes": [],
       "_model_module": "@jupyter-widgets/controls",
       "_model_module_version": "1.5.0",
       "_model_name": "HTMLModel",
       "_view_count": null,
       "_view_module": "@jupyter-widgets/controls",
       "_view_module_version": "1.5.0",
       "_view_name": "HTMLView",
       "description": "",
       "description_tooltip": null,
       "layout": "IPY_MODEL_8cfd2f1b7af248faa4975c9b84dcbb1f",
       "placeholder": "​",
       "style": "IPY_MODEL_50544264b4724b80bb9945faf4ae0abc",
       "value": " 208k/208k [00:00&lt;00:00, 1.82MB/s]"
      }
     }
    },
    "version_major": 2,
    "version_minor": 0
   }
  }
 },
 "nbformat": 4,
 "nbformat_minor": 5
}
